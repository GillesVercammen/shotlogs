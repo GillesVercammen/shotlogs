{
 "cells": [
  {
   "cell_type": "code",
   "execution_count": 51,
   "metadata": {},
   "outputs": [
    {
     "ename": "SyntaxError",
     "evalue": "unexpected EOF while parsing (<ipython-input-51-e370b18f467f>, line 15)",
     "output_type": "error",
     "traceback": [
      "\u001b[1;36m  File \u001b[1;32m\"<ipython-input-51-e370b18f467f>\"\u001b[1;36m, line \u001b[1;32m15\u001b[0m\n\u001b[1;33m    print(check_output([\"ls\", \"/data\"]).decode(\"utf8\")\u001b[0m\n\u001b[1;37m                                                      ^\u001b[0m\n\u001b[1;31mSyntaxError\u001b[0m\u001b[1;31m:\u001b[0m unexpected EOF while parsing\n"
     ]
    }
   ],
   "source": [
    "import pandas as pd\n",
    "import numpy as np\n",
    "import matplotlib.pyplot as plt\n",
    "from ipywidgets import interact, interactive, fixed, interact_manual\n",
    "import ipywidgets as widgets\n",
    "plt.style.use('fivethirtyeight')\n",
    "pd.options.display.max_columns = 30\n",
    "\n",
    "import seaborn as sns\n",
    "from sklearn.linear_model import LinearRegression\n",
    "from sklearn.preprocessing import StandardScaler\n",
    "from sklearn.model_selection import train_test_split\n",
    "from subprocess import check_output\n",
    "plt.style.use('fivethirtyeight')\n"
   ]
  },
  {
   "cell_type": "markdown",
   "metadata": {},
   "source": [
    "<h1>Pandas performance optimaliseren</h1>"
   ]
  },
  {
   "cell_type": "code",
   "execution_count": 35,
   "metadata": {
    "scrolled": true
   },
   "outputs": [
    {
     "data": {
      "text/html": [
       "<div>\n",
       "<style>\n",
       "    .dataframe thead tr:only-child th {\n",
       "        text-align: right;\n",
       "    }\n",
       "\n",
       "    .dataframe thead th {\n",
       "        text-align: left;\n",
       "    }\n",
       "\n",
       "    .dataframe tbody tr th {\n",
       "        vertical-align: top;\n",
       "    }\n",
       "</style>\n",
       "<table border=\"1\" class=\"dataframe\">\n",
       "  <thead>\n",
       "    <tr style=\"text-align: right;\">\n",
       "      <th></th>\n",
       "      <th>Name</th>\n",
       "      <th>Games Played</th>\n",
       "      <th>MIN</th>\n",
       "      <th>PTS</th>\n",
       "      <th>FGM</th>\n",
       "      <th>FGA</th>\n",
       "      <th>FG%</th>\n",
       "      <th>3PM</th>\n",
       "      <th>3PA</th>\n",
       "      <th>3P%</th>\n",
       "      <th>FTM</th>\n",
       "      <th>FTA</th>\n",
       "      <th>FT%</th>\n",
       "      <th>OREB</th>\n",
       "      <th>DREB</th>\n",
       "      <th>...</th>\n",
       "      <th>TOV</th>\n",
       "      <th>PF</th>\n",
       "      <th>EFF</th>\n",
       "      <th>AST/TOV</th>\n",
       "      <th>STL/TOV</th>\n",
       "      <th>Age</th>\n",
       "      <th>Birth_Place</th>\n",
       "      <th>Birthdate</th>\n",
       "      <th>Collage</th>\n",
       "      <th>Experience</th>\n",
       "      <th>Height</th>\n",
       "      <th>Pos</th>\n",
       "      <th>Team</th>\n",
       "      <th>Weight</th>\n",
       "      <th>BMI</th>\n",
       "    </tr>\n",
       "  </thead>\n",
       "  <tbody>\n",
       "    <tr>\n",
       "      <th>0</th>\n",
       "      <td>AJ Price</td>\n",
       "      <td>26</td>\n",
       "      <td>324</td>\n",
       "      <td>133</td>\n",
       "      <td>51</td>\n",
       "      <td>137</td>\n",
       "      <td>37.2</td>\n",
       "      <td>15</td>\n",
       "      <td>57</td>\n",
       "      <td>26.3</td>\n",
       "      <td>16</td>\n",
       "      <td>24</td>\n",
       "      <td>66.7</td>\n",
       "      <td>6</td>\n",
       "      <td>26</td>\n",
       "      <td>...</td>\n",
       "      <td>14</td>\n",
       "      <td>15</td>\n",
       "      <td>110</td>\n",
       "      <td>3.29</td>\n",
       "      <td>0.50</td>\n",
       "      <td>29.0</td>\n",
       "      <td>us</td>\n",
       "      <td>October 7, 1986</td>\n",
       "      <td>University of Connecticut</td>\n",
       "      <td>5</td>\n",
       "      <td>185.0</td>\n",
       "      <td>PG</td>\n",
       "      <td>PHO</td>\n",
       "      <td>81.45</td>\n",
       "      <td>23.798393</td>\n",
       "    </tr>\n",
       "    <tr>\n",
       "      <th>1</th>\n",
       "      <td>Aaron Brooks</td>\n",
       "      <td>82</td>\n",
       "      <td>1885</td>\n",
       "      <td>954</td>\n",
       "      <td>344</td>\n",
       "      <td>817</td>\n",
       "      <td>42.1</td>\n",
       "      <td>121</td>\n",
       "      <td>313</td>\n",
       "      <td>38.7</td>\n",
       "      <td>145</td>\n",
       "      <td>174</td>\n",
       "      <td>83.3</td>\n",
       "      <td>32</td>\n",
       "      <td>134</td>\n",
       "      <td>...</td>\n",
       "      <td>157</td>\n",
       "      <td>189</td>\n",
       "      <td>791</td>\n",
       "      <td>1.66</td>\n",
       "      <td>0.34</td>\n",
       "      <td>30.0</td>\n",
       "      <td>us</td>\n",
       "      <td>January 14, 1985</td>\n",
       "      <td>University of Oregon</td>\n",
       "      <td>6</td>\n",
       "      <td>180.0</td>\n",
       "      <td>PG</td>\n",
       "      <td>CHI</td>\n",
       "      <td>72.45</td>\n",
       "      <td>22.361111</td>\n",
       "    </tr>\n",
       "    <tr>\n",
       "      <th>2</th>\n",
       "      <td>Aaron Gordon</td>\n",
       "      <td>47</td>\n",
       "      <td>797</td>\n",
       "      <td>243</td>\n",
       "      <td>93</td>\n",
       "      <td>208</td>\n",
       "      <td>44.7</td>\n",
       "      <td>13</td>\n",
       "      <td>48</td>\n",
       "      <td>27.1</td>\n",
       "      <td>44</td>\n",
       "      <td>61</td>\n",
       "      <td>72.1</td>\n",
       "      <td>46</td>\n",
       "      <td>123</td>\n",
       "      <td>...</td>\n",
       "      <td>38</td>\n",
       "      <td>83</td>\n",
       "      <td>318</td>\n",
       "      <td>0.87</td>\n",
       "      <td>0.55</td>\n",
       "      <td>20.0</td>\n",
       "      <td>us</td>\n",
       "      <td>September 16, 1995</td>\n",
       "      <td>University of Arizona</td>\n",
       "      <td>R</td>\n",
       "      <td>202.5</td>\n",
       "      <td>PF</td>\n",
       "      <td>ORL</td>\n",
       "      <td>99.00</td>\n",
       "      <td>24.142661</td>\n",
       "    </tr>\n",
       "    <tr>\n",
       "      <th>3</th>\n",
       "      <td>Adreian Payne</td>\n",
       "      <td>32</td>\n",
       "      <td>740</td>\n",
       "      <td>213</td>\n",
       "      <td>91</td>\n",
       "      <td>220</td>\n",
       "      <td>41.4</td>\n",
       "      <td>1</td>\n",
       "      <td>9</td>\n",
       "      <td>11.1</td>\n",
       "      <td>30</td>\n",
       "      <td>46</td>\n",
       "      <td>65.2</td>\n",
       "      <td>48</td>\n",
       "      <td>114</td>\n",
       "      <td>...</td>\n",
       "      <td>44</td>\n",
       "      <td>88</td>\n",
       "      <td>244</td>\n",
       "      <td>0.68</td>\n",
       "      <td>0.43</td>\n",
       "      <td>24.0</td>\n",
       "      <td>us</td>\n",
       "      <td>February 19, 1991</td>\n",
       "      <td>Michigan State University</td>\n",
       "      <td>R</td>\n",
       "      <td>205.0</td>\n",
       "      <td>PF</td>\n",
       "      <td>ATL</td>\n",
       "      <td>106.65</td>\n",
       "      <td>25.377751</td>\n",
       "    </tr>\n",
       "    <tr>\n",
       "      <th>4</th>\n",
       "      <td>Al Horford</td>\n",
       "      <td>76</td>\n",
       "      <td>2318</td>\n",
       "      <td>1156</td>\n",
       "      <td>519</td>\n",
       "      <td>965</td>\n",
       "      <td>53.8</td>\n",
       "      <td>11</td>\n",
       "      <td>36</td>\n",
       "      <td>30.6</td>\n",
       "      <td>107</td>\n",
       "      <td>141</td>\n",
       "      <td>75.9</td>\n",
       "      <td>131</td>\n",
       "      <td>413</td>\n",
       "      <td>...</td>\n",
       "      <td>100</td>\n",
       "      <td>121</td>\n",
       "      <td>1530</td>\n",
       "      <td>2.44</td>\n",
       "      <td>0.68</td>\n",
       "      <td>29.0</td>\n",
       "      <td>do</td>\n",
       "      <td>June 3, 1986</td>\n",
       "      <td>University of Florida</td>\n",
       "      <td>7</td>\n",
       "      <td>205.0</td>\n",
       "      <td>C</td>\n",
       "      <td>ATL</td>\n",
       "      <td>110.25</td>\n",
       "      <td>26.234384</td>\n",
       "    </tr>\n",
       "  </tbody>\n",
       "</table>\n",
       "<p>5 rows × 34 columns</p>\n",
       "</div>"
      ],
      "text/plain": [
       "            Name  Games Played   MIN   PTS  FGM  FGA   FG%  3PM  3PA   3P%  \\\n",
       "0       AJ Price            26   324   133   51  137  37.2   15   57  26.3   \n",
       "1   Aaron Brooks            82  1885   954  344  817  42.1  121  313  38.7   \n",
       "2   Aaron Gordon            47   797   243   93  208  44.7   13   48  27.1   \n",
       "3  Adreian Payne            32   740   213   91  220  41.4    1    9  11.1   \n",
       "4     Al Horford            76  2318  1156  519  965  53.8   11   36  30.6   \n",
       "\n",
       "   FTM  FTA   FT%  OREB  DREB    ...      TOV   PF   EFF  AST/TOV  STL/TOV  \\\n",
       "0   16   24  66.7     6    26    ...       14   15   110     3.29     0.50   \n",
       "1  145  174  83.3    32   134    ...      157  189   791     1.66     0.34   \n",
       "2   44   61  72.1    46   123    ...       38   83   318     0.87     0.55   \n",
       "3   30   46  65.2    48   114    ...       44   88   244     0.68     0.43   \n",
       "4  107  141  75.9   131   413    ...      100  121  1530     2.44     0.68   \n",
       "\n",
       "    Age  Birth_Place           Birthdate                    Collage  \\\n",
       "0  29.0           us     October 7, 1986  University of Connecticut   \n",
       "1  30.0           us    January 14, 1985       University of Oregon   \n",
       "2  20.0           us  September 16, 1995      University of Arizona   \n",
       "3  24.0           us   February 19, 1991  Michigan State University   \n",
       "4  29.0           do        June 3, 1986      University of Florida   \n",
       "\n",
       "   Experience Height Pos Team  Weight        BMI  \n",
       "0           5  185.0  PG  PHO   81.45  23.798393  \n",
       "1           6  180.0  PG  CHI   72.45  22.361111  \n",
       "2           R  202.5  PF  ORL   99.00  24.142661  \n",
       "3           R  205.0  PF  ATL  106.65  25.377751  \n",
       "4           7  205.0   C  ATL  110.25  26.234384  \n",
       "\n",
       "[5 rows x 34 columns]"
      ]
     },
     "execution_count": 35,
     "metadata": {},
     "output_type": "execute_result"
    }
   ],
   "source": [
    "# Csv file inlezen in een python dataframe\n",
    "df = pd.read_csv('data/shot_logs.csv')\n",
    "df2 = df.copy()\n",
    "\n",
    "players = pd.read_csv('data/players_stats.csv')\n",
    "players.head()"
   ]
  },
  {
   "cell_type": "markdown",
   "metadata": {},
   "source": [
    "<h3>Gewone loops in pandas</h3>"
   ]
  },
  {
   "cell_type": "code",
   "execution_count": 3,
   "metadata": {
    "collapsed": true
   },
   "outputs": [],
   "source": [
    "# functie die gewoon doe alle rows afgaat en de waarde in een nieuwe lijst steekt\n",
    "def manuele_loop(df):\n",
    "    test_list = []\n",
    "    for i in range(0, len(df)):\n",
    "        d = df.iloc[i]['SHOT_CLOCK']\n",
    "        test_list.append(d)\n",
    "    return test_list"
   ]
  },
  {
   "cell_type": "code",
   "execution_count": 4,
   "metadata": {},
   "outputs": [
    {
     "name": "stdout",
     "output_type": "stream",
     "text": [
      "1 loop, best of 3: 21.1 s per loop\n"
     ]
    }
   ],
   "source": [
    "%%timeit\n",
    "# Maneuele loop functie runnen en timen\n",
    "df['testkolom'] = manuele_loop(df)\n"
   ]
  },
  {
   "cell_type": "markdown",
   "metadata": {},
   "source": [
    "<h3>Loopen met iterrows()</h3>"
   ]
  },
  {
   "cell_type": "code",
   "execution_count": 5,
   "metadata": {},
   "outputs": [
    {
     "name": "stdout",
     "output_type": "stream",
     "text": [
      "1 loop, best of 3: 6.59 s per loop\n"
     ]
    }
   ],
   "source": [
    "%%timeit\n",
    "\n",
    "# Gebruik van iterrows()\n",
    "test_list = []\n",
    "for index, row in df.iterrows():\n",
    "    test_list.append(df['SHOT_CLOCK'])\n",
    "df['testkolom'] = test_list\n"
   ]
  },
  {
   "cell_type": "markdown",
   "metadata": {},
   "source": [
    "<h3>Loopen met de apply() methode</h3>"
   ]
  },
  {
   "cell_type": "code",
   "execution_count": 6,
   "metadata": {},
   "outputs": [
    {
     "name": "stdout",
     "output_type": "stream",
     "text": [
      "10 loops, best of 3: 91.9 ms per loop\n"
     ]
    }
   ],
   "source": [
    "%timeit df['testkolom'] = df.apply(lambda row: df['SHOT_CLOCK'])\n"
   ]
  },
  {
   "cell_type": "markdown",
   "metadata": {},
   "source": [
    "<h3>Vectoriseren over pandas series (executie over een volledige array)</h3>"
   ]
  },
  {
   "cell_type": "code",
   "execution_count": 7,
   "metadata": {},
   "outputs": [
    {
     "name": "stdout",
     "output_type": "stream",
     "text": [
      "The slowest run took 4.07 times longer than the fastest. This could mean that an intermediate result is being cached.\n",
      "1000 loops, best of 3: 224 µs per loop\n"
     ]
    }
   ],
   "source": [
    "%timeit df['testkolom'] = df['SHOT_CLOCK']"
   ]
  },
  {
   "cell_type": "code",
   "execution_count": 8,
   "metadata": {},
   "outputs": [
    {
     "data": {
      "text/html": [
       "<div>\n",
       "<style>\n",
       "    .dataframe thead tr:only-child th {\n",
       "        text-align: right;\n",
       "    }\n",
       "\n",
       "    .dataframe thead th {\n",
       "        text-align: left;\n",
       "    }\n",
       "\n",
       "    .dataframe tbody tr th {\n",
       "        vertical-align: top;\n",
       "    }\n",
       "</style>\n",
       "<table border=\"1\" class=\"dataframe\">\n",
       "  <thead>\n",
       "    <tr style=\"text-align: right;\">\n",
       "      <th></th>\n",
       "      <th>TYPE VAN LOOP</th>\n",
       "      <th>UITVOERSNELHEID</th>\n",
       "      <th>IMPROVEMENT</th>\n",
       "    </tr>\n",
       "  </thead>\n",
       "  <tbody>\n",
       "    <tr>\n",
       "      <th>0</th>\n",
       "      <td>Manuele loop</td>\n",
       "      <td>25 800 ms</td>\n",
       "      <td></td>\n",
       "    </tr>\n",
       "    <tr>\n",
       "      <th>1</th>\n",
       "      <td>iterrows loop</td>\n",
       "      <td>7 270 ms</td>\n",
       "      <td>x3,5</td>\n",
       "    </tr>\n",
       "    <tr>\n",
       "      <th>2</th>\n",
       "      <td>apply loops</td>\n",
       "      <td>90.8 ms</td>\n",
       "      <td>x80</td>\n",
       "    </tr>\n",
       "    <tr>\n",
       "      <th>3</th>\n",
       "      <td>Vectoriseren</td>\n",
       "      <td>0.302 ms</td>\n",
       "      <td>x300</td>\n",
       "    </tr>\n",
       "  </tbody>\n",
       "</table>\n",
       "</div>"
      ],
      "text/plain": [
       "   TYPE VAN LOOP UITVOERSNELHEID IMPROVEMENT\n",
       "0   Manuele loop       25 800 ms            \n",
       "1  iterrows loop        7 270 ms        x3,5\n",
       "2    apply loops         90.8 ms         x80\n",
       "3   Vectoriseren        0.302 ms        x300"
      ]
     },
     "execution_count": 8,
     "metadata": {},
     "output_type": "execute_result"
    }
   ],
   "source": [
    "sales = [(\"TYPE VAN LOOP\", [\"Manuele loop\", \"iterrows loop\", \"apply loops\", \"Vectoriseren\"]),\n",
    "         (\"UITVOERSNELHEID\", [\"25 800 ms\", \"7 270 ms\", \"90.8 ms\", \"0.302 ms\"]),\n",
    "         (\"IMPROVEMENT\", [\" \", \"x3,5\", \"x80\",\"x300\"])\n",
    "         ]\n",
    "df2 = pd.DataFrame.from_items(sales)\n",
    "df2"
   ]
  },
  {
   "cell_type": "markdown",
   "metadata": {},
   "source": [
    "<h1>De dataset opkuisen</h1>"
   ]
  },
  {
   "cell_type": "code",
   "execution_count": 9,
   "metadata": {},
   "outputs": [
    {
     "data": {
      "text/html": [
       "<div>\n",
       "<style>\n",
       "    .dataframe thead tr:only-child th {\n",
       "        text-align: right;\n",
       "    }\n",
       "\n",
       "    .dataframe thead th {\n",
       "        text-align: left;\n",
       "    }\n",
       "\n",
       "    .dataframe tbody tr th {\n",
       "        vertical-align: top;\n",
       "    }\n",
       "</style>\n",
       "<table border=\"1\" class=\"dataframe\">\n",
       "  <thead>\n",
       "    <tr style=\"text-align: right;\">\n",
       "      <th></th>\n",
       "      <th>GAME_ID</th>\n",
       "      <th>FINAL_MARGIN</th>\n",
       "      <th>SHOT_NUMBER</th>\n",
       "      <th>PERIOD</th>\n",
       "      <th>SHOT_CLOCK</th>\n",
       "      <th>DRIBBLES</th>\n",
       "      <th>TOUCH_TIME</th>\n",
       "      <th>SHOT_DIST</th>\n",
       "      <th>PTS_TYPE</th>\n",
       "      <th>CLOSEST_DEFENDER_PLAYER_ID</th>\n",
       "      <th>CLOSE_DEF_DIST</th>\n",
       "      <th>FGM</th>\n",
       "      <th>PTS</th>\n",
       "      <th>PLAYER_ID</th>\n",
       "    </tr>\n",
       "  </thead>\n",
       "  <tbody>\n",
       "    <tr>\n",
       "      <th>count</th>\n",
       "      <td>1.280690e+05</td>\n",
       "      <td>128069.000000</td>\n",
       "      <td>128069.000000</td>\n",
       "      <td>128069.000000</td>\n",
       "      <td>122502.000000</td>\n",
       "      <td>128069.000000</td>\n",
       "      <td>128069.000000</td>\n",
       "      <td>128069.000000</td>\n",
       "      <td>128069.000000</td>\n",
       "      <td>128069.000000</td>\n",
       "      <td>128069.000000</td>\n",
       "      <td>128069.000000</td>\n",
       "      <td>128069.000000</td>\n",
       "      <td>128069.000000</td>\n",
       "    </tr>\n",
       "    <tr>\n",
       "      <th>mean</th>\n",
       "      <td>2.140045e+07</td>\n",
       "      <td>0.208723</td>\n",
       "      <td>6.506899</td>\n",
       "      <td>2.469427</td>\n",
       "      <td>12.453344</td>\n",
       "      <td>2.023355</td>\n",
       "      <td>2.765901</td>\n",
       "      <td>13.571504</td>\n",
       "      <td>2.264670</td>\n",
       "      <td>159038.487284</td>\n",
       "      <td>4.123015</td>\n",
       "      <td>0.452139</td>\n",
       "      <td>0.997314</td>\n",
       "      <td>157238.251247</td>\n",
       "    </tr>\n",
       "    <tr>\n",
       "      <th>std</th>\n",
       "      <td>2.578773e+02</td>\n",
       "      <td>13.233267</td>\n",
       "      <td>4.713260</td>\n",
       "      <td>1.139919</td>\n",
       "      <td>5.763265</td>\n",
       "      <td>3.477760</td>\n",
       "      <td>3.043682</td>\n",
       "      <td>8.888964</td>\n",
       "      <td>0.441159</td>\n",
       "      <td>78791.172947</td>\n",
       "      <td>2.756446</td>\n",
       "      <td>0.497706</td>\n",
       "      <td>1.130978</td>\n",
       "      <td>79362.389336</td>\n",
       "    </tr>\n",
       "    <tr>\n",
       "      <th>min</th>\n",
       "      <td>2.140000e+07</td>\n",
       "      <td>-53.000000</td>\n",
       "      <td>1.000000</td>\n",
       "      <td>1.000000</td>\n",
       "      <td>0.000000</td>\n",
       "      <td>0.000000</td>\n",
       "      <td>-163.600000</td>\n",
       "      <td>0.000000</td>\n",
       "      <td>2.000000</td>\n",
       "      <td>708.000000</td>\n",
       "      <td>0.000000</td>\n",
       "      <td>0.000000</td>\n",
       "      <td>0.000000</td>\n",
       "      <td>708.000000</td>\n",
       "    </tr>\n",
       "    <tr>\n",
       "      <th>25%</th>\n",
       "      <td>2.140023e+07</td>\n",
       "      <td>-8.000000</td>\n",
       "      <td>3.000000</td>\n",
       "      <td>1.000000</td>\n",
       "      <td>8.200000</td>\n",
       "      <td>0.000000</td>\n",
       "      <td>0.900000</td>\n",
       "      <td>4.700000</td>\n",
       "      <td>2.000000</td>\n",
       "      <td>101249.000000</td>\n",
       "      <td>2.300000</td>\n",
       "      <td>0.000000</td>\n",
       "      <td>0.000000</td>\n",
       "      <td>101162.000000</td>\n",
       "    </tr>\n",
       "    <tr>\n",
       "      <th>50%</th>\n",
       "      <td>2.140045e+07</td>\n",
       "      <td>1.000000</td>\n",
       "      <td>5.000000</td>\n",
       "      <td>2.000000</td>\n",
       "      <td>12.300000</td>\n",
       "      <td>1.000000</td>\n",
       "      <td>1.600000</td>\n",
       "      <td>13.700000</td>\n",
       "      <td>2.000000</td>\n",
       "      <td>201949.000000</td>\n",
       "      <td>3.700000</td>\n",
       "      <td>0.000000</td>\n",
       "      <td>0.000000</td>\n",
       "      <td>201939.000000</td>\n",
       "    </tr>\n",
       "    <tr>\n",
       "      <th>75%</th>\n",
       "      <td>2.140067e+07</td>\n",
       "      <td>9.000000</td>\n",
       "      <td>9.000000</td>\n",
       "      <td>3.000000</td>\n",
       "      <td>16.675000</td>\n",
       "      <td>2.000000</td>\n",
       "      <td>3.700000</td>\n",
       "      <td>22.500000</td>\n",
       "      <td>3.000000</td>\n",
       "      <td>203079.000000</td>\n",
       "      <td>5.300000</td>\n",
       "      <td>1.000000</td>\n",
       "      <td>2.000000</td>\n",
       "      <td>202704.000000</td>\n",
       "    </tr>\n",
       "    <tr>\n",
       "      <th>max</th>\n",
       "      <td>2.140091e+07</td>\n",
       "      <td>53.000000</td>\n",
       "      <td>38.000000</td>\n",
       "      <td>7.000000</td>\n",
       "      <td>24.000000</td>\n",
       "      <td>32.000000</td>\n",
       "      <td>24.900000</td>\n",
       "      <td>47.200000</td>\n",
       "      <td>3.000000</td>\n",
       "      <td>530027.000000</td>\n",
       "      <td>53.200000</td>\n",
       "      <td>1.000000</td>\n",
       "      <td>3.000000</td>\n",
       "      <td>204060.000000</td>\n",
       "    </tr>\n",
       "  </tbody>\n",
       "</table>\n",
       "</div>"
      ],
      "text/plain": [
       "            GAME_ID   FINAL_MARGIN    SHOT_NUMBER         PERIOD  \\\n",
       "count  1.280690e+05  128069.000000  128069.000000  128069.000000   \n",
       "mean   2.140045e+07       0.208723       6.506899       2.469427   \n",
       "std    2.578773e+02      13.233267       4.713260       1.139919   \n",
       "min    2.140000e+07     -53.000000       1.000000       1.000000   \n",
       "25%    2.140023e+07      -8.000000       3.000000       1.000000   \n",
       "50%    2.140045e+07       1.000000       5.000000       2.000000   \n",
       "75%    2.140067e+07       9.000000       9.000000       3.000000   \n",
       "max    2.140091e+07      53.000000      38.000000       7.000000   \n",
       "\n",
       "          SHOT_CLOCK       DRIBBLES     TOUCH_TIME      SHOT_DIST  \\\n",
       "count  122502.000000  128069.000000  128069.000000  128069.000000   \n",
       "mean       12.453344       2.023355       2.765901      13.571504   \n",
       "std         5.763265       3.477760       3.043682       8.888964   \n",
       "min         0.000000       0.000000    -163.600000       0.000000   \n",
       "25%         8.200000       0.000000       0.900000       4.700000   \n",
       "50%        12.300000       1.000000       1.600000      13.700000   \n",
       "75%        16.675000       2.000000       3.700000      22.500000   \n",
       "max        24.000000      32.000000      24.900000      47.200000   \n",
       "\n",
       "            PTS_TYPE  CLOSEST_DEFENDER_PLAYER_ID  CLOSE_DEF_DIST  \\\n",
       "count  128069.000000               128069.000000   128069.000000   \n",
       "mean        2.264670               159038.487284        4.123015   \n",
       "std         0.441159                78791.172947        2.756446   \n",
       "min         2.000000                  708.000000        0.000000   \n",
       "25%         2.000000               101249.000000        2.300000   \n",
       "50%         2.000000               201949.000000        3.700000   \n",
       "75%         3.000000               203079.000000        5.300000   \n",
       "max         3.000000               530027.000000       53.200000   \n",
       "\n",
       "                 FGM            PTS      PLAYER_ID  \n",
       "count  128069.000000  128069.000000  128069.000000  \n",
       "mean        0.452139       0.997314  157238.251247  \n",
       "std         0.497706       1.130978   79362.389336  \n",
       "min         0.000000       0.000000     708.000000  \n",
       "25%         0.000000       0.000000  101162.000000  \n",
       "50%         0.000000       0.000000  201939.000000  \n",
       "75%         1.000000       2.000000  202704.000000  \n",
       "max         1.000000       3.000000  204060.000000  "
      ]
     },
     "execution_count": 9,
     "metadata": {},
     "output_type": "execute_result"
    }
   ],
   "source": [
    "# headers van df.columns\n",
    "#'GAME_ID', 'MATCHUP', 'LOCATION', 'W', 'FINAL_MARGIN', 'SHOT_NUMBER',\n",
    "#'PERIOD', 'GAME_CLOCK', 'SHOT_CLOCK', 'DRIBBLES', 'TOUCH_TIME',\n",
    "#'SHOT_DIST', 'PTS_TYPE', 'SHOT_RESULT', 'CLOSEST_DEFENDER',\n",
    "#'CLOSEST_DEFENDER_PLAYER_ID', 'CLOSE_DEF_DIST', 'FGM', 'PTS',\n",
    "#'player_name', 'player_id'\n",
    "df = pd.read_csv('data/shot_logs.csv')\n",
    "df.columns = map(str.upper, df.columns)\n",
    "df.describe()\n"
   ]
  },
  {
   "cell_type": "markdown",
   "metadata": {},
   "source": [
    "<h3>Null values in dataset</h3>"
   ]
  },
  {
   "cell_type": "code",
   "execution_count": 10,
   "metadata": {},
   "outputs": [
    {
     "data": {
      "text/plain": [
       "GAME_ID                          0\n",
       "MATCHUP                          0\n",
       "LOCATION                         0\n",
       "W                                0\n",
       "FINAL_MARGIN                     0\n",
       "SHOT_NUMBER                      0\n",
       "PERIOD                           0\n",
       "GAME_CLOCK                       0\n",
       "SHOT_CLOCK                    5567\n",
       "DRIBBLES                         0\n",
       "TOUCH_TIME                       0\n",
       "SHOT_DIST                        0\n",
       "PTS_TYPE                         0\n",
       "SHOT_RESULT                      0\n",
       "CLOSEST_DEFENDER                 0\n",
       "CLOSEST_DEFENDER_PLAYER_ID       0\n",
       "CLOSE_DEF_DIST                   0\n",
       "FGM                              0\n",
       "PTS                              0\n",
       "PLAYER_NAME                      0\n",
       "PLAYER_ID                        0\n",
       "dtype: int64"
      ]
     },
     "execution_count": 10,
     "metadata": {},
     "output_type": "execute_result"
    }
   ],
   "source": [
    "# Check welke kolommen null values bevatten\n",
    "df.isnull().sum()"
   ]
  },
  {
   "cell_type": "code",
   "execution_count": 11,
   "metadata": {},
   "outputs": [
    {
     "name": "stdout",
     "output_type": "stream",
     "text": [
      "totaal aantal rijen in SHOT_CLOCK met NaN: 5567\n",
      "Aaantal % van de SHOT_CLOCK kolom NaN: 4.0 %\n"
     ]
    }
   ],
   "source": [
    "# Totaal aantal rijen waar SHOT_CLICK = NaN en hoeveel % vd dataset\n",
    "shotclock_nan = len (df[df['SHOT_CLOCK'].isnull()])\n",
    "print(\"totaal aantal rijen in SHOT_CLOCK met NaN: \" + str(shotclock_nan))\n",
    "print (\"Aaantal % van de SHOT_CLOCK kolom NaN: \" + str(round(float(len (df[df.SHOT_CLOCK.isnull()==True]))/float(len (df)),2)*100),'%')"
   ]
  },
  {
   "cell_type": "code",
   "execution_count": 12,
   "metadata": {},
   "outputs": [
    {
     "name": "stdout",
     "output_type": "stream",
     "text": [
      "Aantal NaN als game clock <= 24 seconden: 3554\n",
      "Aantal NaN als game clock > 24 seconden: 2013\n",
      "Aantal instanties waar shotclock  is valid time en game clock < 24: 2118\n"
     ]
    }
   ],
   "source": [
    "# Theorie shotclock = NaN?\n",
    "# In basketbal wanneer game clock < 24 seconden, wordt de shotclock afgezet, dit zou dus kunnen leiden tot deze values.\n",
    "# Om na te gaan of dit werkelijk de oorzaak is gaan we 3 tests doen:\n",
    "#      1. Kijken of er degelijk NaN waarden zijn als game clock < 24 seconden\n",
    "#      2. Kijken of er nog altijd NaN waarden zijn als game clock > 24 seconden\n",
    "#      3. Kijken of er instanties bestaan waarbij de shotclock valid time heeft en game clock < 24\n",
    "\n",
    "nan_under_24 = len(df[(df['GAME_CLOCK'] <= '0:24') & (df['SHOT_CLOCK'].isnull())])\n",
    "nan_over_24 = len(df[(df['GAME_CLOCK'] > '0:24') & (df['SHOT_CLOCK'].isnull())])\n",
    "valid_under_24 = len(df[(df['GAME_CLOCK'] <= '0:24') & (~df['SHOT_CLOCK'].isnull())])\n",
    "\n",
    "print(\"Aantal NaN als game clock <= 24 seconden: \" + str(nan_under_24))\n",
    "print(\"Aantal NaN als game clock > 24 seconden: \" + str(nan_over_24))\n",
    "print(\"Aantal instanties waar shotclock  is valid time en game clock < 24: \" + str(valid_under_24))\n",
    "\n",
    "# Conclusie: Er is geen logische verklaring voor shotclock = NaN.\n",
    "# Aangezien bij game clock < 24, de shot clock zowel NaN kan zijn, als een valid time."
   ]
  },
  {
   "cell_type": "code",
   "execution_count": 13,
   "metadata": {
    "collapsed": true
   },
   "outputs": [],
   "source": [
    "# Rows verwijderen waar shot clock = NaN\n",
    "# nan=float('nan')\n",
    "# df=df[~np.isnan(df['SHOT_CLOCK'])]"
   ]
  },
  {
   "cell_type": "markdown",
   "metadata": {},
   "source": [
    "<h3>Fouten & aanpassingen in dataset</h3>"
   ]
  },
  {
   "cell_type": "code",
   "execution_count": 14,
   "metadata": {},
   "outputs": [
    {
     "name": "stdout",
     "output_type": "stream",
     "text": [
      "Aantal rows waarin een 3 punter een te korte afstand heeft: 872\n"
     ]
    }
   ],
   "source": [
    "# PTS_TYPE = 3 en SHOT_DIST < 22, 22 feet is de kortste afstand in nba voor een 3 punter, toch zijn er instanties waar\n",
    "# een speler 3 punten scoort en toch SHOT_DIST < 22 heeft.\n",
    "aantal_foute_3punters = len(df[(df['SHOT_DIST'] < 22) & (df['PTS_TYPE'] == 3)])\n",
    "print(\"Aantal rows waarin een 3 punter een te korte afstand heeft: \" + str(aantal_foute_3punters))"
   ]
  },
  {
   "cell_type": "code",
   "execution_count": 15,
   "metadata": {},
   "outputs": [
    {
     "data": {
      "text/html": [
       "<div>\n",
       "<style>\n",
       "    .dataframe thead tr:only-child th {\n",
       "        text-align: right;\n",
       "    }\n",
       "\n",
       "    .dataframe thead th {\n",
       "        text-align: left;\n",
       "    }\n",
       "\n",
       "    .dataframe tbody tr th {\n",
       "        vertical-align: top;\n",
       "    }\n",
       "</style>\n",
       "<table border=\"1\" class=\"dataframe\">\n",
       "  <thead>\n",
       "    <tr style=\"text-align: right;\">\n",
       "      <th></th>\n",
       "      <th>GAME_ID</th>\n",
       "      <th>MATCHUP</th>\n",
       "      <th>LOCATION</th>\n",
       "      <th>W</th>\n",
       "      <th>FINAL_MARGIN</th>\n",
       "      <th>SHOT_NUMBER</th>\n",
       "      <th>PERIOD</th>\n",
       "      <th>GAME_CLOCK</th>\n",
       "      <th>SHOT_CLOCK</th>\n",
       "      <th>DRIBBLES</th>\n",
       "      <th>TOUCH_TIME</th>\n",
       "      <th>SHOT_DIST</th>\n",
       "      <th>PTS_TYPE</th>\n",
       "      <th>SHOT_RESULT</th>\n",
       "      <th>CLOSEST_DEFENDER</th>\n",
       "      <th>CLOSEST_DEFENDER_PLAYER_ID</th>\n",
       "      <th>CLOSE_DEF_DIST</th>\n",
       "      <th>FGM</th>\n",
       "      <th>PTS</th>\n",
       "      <th>PLAYER_NAME</th>\n",
       "      <th>PLAYER_ID</th>\n",
       "    </tr>\n",
       "  </thead>\n",
       "  <tbody>\n",
       "    <tr>\n",
       "      <th>15593</th>\n",
       "      <td>21400382</td>\n",
       "      <td>DEC 18, 2014 - GSW vs. OKC</td>\n",
       "      <td>H</td>\n",
       "      <td>W</td>\n",
       "      <td>5</td>\n",
       "      <td>6</td>\n",
       "      <td>2</td>\n",
       "      <td>3:28</td>\n",
       "      <td>21.4</td>\n",
       "      <td>0</td>\n",
       "      <td>1.2</td>\n",
       "      <td>20.9</td>\n",
       "      <td>3</td>\n",
       "      <td>made</td>\n",
       "      <td>Jones, Perry</td>\n",
       "      <td>203103</td>\n",
       "      <td>5.4</td>\n",
       "      <td>1</td>\n",
       "      <td>3</td>\n",
       "      <td>klay thompson</td>\n",
       "      <td>202691</td>\n",
       "    </tr>\n",
       "  </tbody>\n",
       "</table>\n",
       "</div>"
      ],
      "text/plain": [
       "        GAME_ID                     MATCHUP LOCATION  W  FINAL_MARGIN  \\\n",
       "15593  21400382  DEC 18, 2014 - GSW vs. OKC        H  W             5   \n",
       "\n",
       "       SHOT_NUMBER  PERIOD GAME_CLOCK  SHOT_CLOCK  DRIBBLES  TOUCH_TIME  \\\n",
       "15593            6       2       3:28        21.4         0         1.2   \n",
       "\n",
       "       SHOT_DIST  PTS_TYPE SHOT_RESULT CLOSEST_DEFENDER  \\\n",
       "15593       20.9         3        made     Jones, Perry   \n",
       "\n",
       "       CLOSEST_DEFENDER_PLAYER_ID  CLOSE_DEF_DIST  FGM  PTS    PLAYER_NAME  \\\n",
       "15593                      203103             5.4    1    3  klay thompson   \n",
       "\n",
       "       PLAYER_ID  \n",
       "15593     202691  "
      ]
     },
     "execution_count": 15,
     "metadata": {},
     "output_type": "execute_result"
    }
   ],
   "source": [
    "# https://youtu.be/InDis_QY2X4?t=186 Link naar de game waarbij klay de 3 punter shot\n",
    "df[(df['GAME_ID'] == 21400382) & (df['SHOT_DIST'] < 22) & (df['PTS_TYPE'] == 3)]"
   ]
  },
  {
   "cell_type": "code",
   "execution_count": 16,
   "metadata": {
    "collapsed": true
   },
   "outputs": [],
   "source": [
    "# Overal waar shot distance < 22 feet maar toch een 3 punter is, gaan we shot_dist op 9999 zetten\n",
    "df.loc[(df['SHOT_DIST'] < 22) & (df['PTS_TYPE'] == 3), 'SHOT_DIST'] = 9999"
   ]
  },
  {
   "cell_type": "code",
   "execution_count": 17,
   "metadata": {},
   "outputs": [
    {
     "name": "stdout",
     "output_type": "stream",
     "text": [
      "Aantal negatieve touch value: 312\n",
      "Aantal procent negatieve touch value: 0.2 %\n"
     ]
    }
   ],
   "source": [
    "# Touch time is in sommige gevallen negatief\n",
    "touch_neg = len (df[df['TOUCH_TIME']<0])\n",
    "print (\"Aantal negatieve touch value: \" + str(touch_neg))\n",
    "print (\"Aantal procent negatieve touch value: \" + str(round(len (df[df['TOUCH_TIME']<0])/float(len (df)),3)*100),'%')"
   ]
  },
  {
   "cell_type": "code",
   "execution_count": 18,
   "metadata": {
    "collapsed": true
   },
   "outputs": [],
   "source": [
    "# Enkel de rows overhouden waar touchtime > 0\n",
    "# df=df[df['TOUCH_TIME']>0]"
   ]
  },
  {
   "cell_type": "code",
   "execution_count": 19,
   "metadata": {
    "collapsed": true
   },
   "outputs": [],
   "source": [
    "# MATCHUP kolom bevat veel data dat eigenlijk kan opgesplitst worden (datum / thuisteam / uitteam)\n",
    "\n",
    "# splits datum voor datum kolom\n",
    "def datum_split(x):\n",
    "    \n",
    "    (a,b)=x.split('-')\n",
    "    a=a.strip()\n",
    "    \n",
    "    return a\n",
    "\n",
    "# splits thuis team adhv @ of vs voor thuis team kolom\n",
    "def thuis_team_split(x):\n",
    "    (a,b) = x.split('-')\n",
    "    if '@' in b:\n",
    "        (b1, b2) = b.split('@')\n",
    "    if 'vs.' in b:\n",
    "        (b2, b1) = b.split('vs.')\n",
    "\n",
    "    b2 = b2.strip()\n",
    "\n",
    "    return(b2)\n",
    "\n",
    "# splits uit team adhv @ of vs voor uit team kolom\n",
    "def uit_team_split(x):\n",
    "    (a,b) = x.split('-')\n",
    "    if '@' in b:\n",
    "        (b2, b1) = b.split('@')\n",
    "    if 'vs.' in b:\n",
    "        (b1, b2) = b.split('vs.')\n",
    "\n",
    "    b2 = b2.strip()\n",
    "\n",
    "    return(b2)\n",
    "           \n",
    "# defenieer winning team adhv @ of vs en de W kolom voor de winning team kolom\n",
    "def winning_team(x):\n",
    "    (a,b) = x['MATCHUP'].split('-')\n",
    "    if '@' in b:\n",
    "        (b1, b2) = b.split('@')\n",
    "        if  x['W'] == 'L':\n",
    "            winning_team = b2.strip()\n",
    "        else:\n",
    "            winning_team = b1.strip()\n",
    "            \n",
    "    if 'vs.' in b:\n",
    "        (b2, b1) = b.split('vs.')\n",
    "        if x['W'] == 'L':\n",
    "            winning_team = b1.strip()\n",
    "        else:\n",
    "            winning_team = b2.strip()\n",
    "    return winning_team"
   ]
  },
  {
   "cell_type": "code",
   "execution_count": 20,
   "metadata": {},
   "outputs": [
    {
     "data": {
      "text/html": [
       "<div>\n",
       "<style>\n",
       "    .dataframe thead tr:only-child th {\n",
       "        text-align: right;\n",
       "    }\n",
       "\n",
       "    .dataframe thead th {\n",
       "        text-align: left;\n",
       "    }\n",
       "\n",
       "    .dataframe tbody tr th {\n",
       "        vertical-align: top;\n",
       "    }\n",
       "</style>\n",
       "<table border=\"1\" class=\"dataframe\">\n",
       "  <thead>\n",
       "    <tr style=\"text-align: right;\">\n",
       "      <th></th>\n",
       "      <th>GAME_ID</th>\n",
       "      <th>MATCHUP</th>\n",
       "      <th>LOCATION</th>\n",
       "      <th>W</th>\n",
       "      <th>FINAL_MARGIN</th>\n",
       "      <th>SHOT_NUMBER</th>\n",
       "      <th>PERIOD</th>\n",
       "      <th>GAME_CLOCK</th>\n",
       "      <th>SHOT_CLOCK</th>\n",
       "      <th>DRIBBLES</th>\n",
       "      <th>TOUCH_TIME</th>\n",
       "      <th>SHOT_DIST</th>\n",
       "      <th>PTS_TYPE</th>\n",
       "      <th>SHOT_RESULT</th>\n",
       "      <th>CLOSEST_DEFENDER</th>\n",
       "      <th>CLOSEST_DEFENDER_PLAYER_ID</th>\n",
       "      <th>CLOSE_DEF_DIST</th>\n",
       "      <th>FGM</th>\n",
       "      <th>PTS</th>\n",
       "      <th>PLAYER_NAME</th>\n",
       "      <th>PLAYER_ID</th>\n",
       "      <th>DATUM</th>\n",
       "      <th>THUIS_TEAM</th>\n",
       "      <th>UIT_TEAM</th>\n",
       "      <th>WIN_TEAM</th>\n",
       "    </tr>\n",
       "  </thead>\n",
       "  <tbody>\n",
       "    <tr>\n",
       "      <th>0</th>\n",
       "      <td>21400899</td>\n",
       "      <td>MAR 04, 2015 - CHA @ BKN</td>\n",
       "      <td>A</td>\n",
       "      <td>W</td>\n",
       "      <td>24</td>\n",
       "      <td>1</td>\n",
       "      <td>1</td>\n",
       "      <td>1:09</td>\n",
       "      <td>10.8</td>\n",
       "      <td>2</td>\n",
       "      <td>1.9</td>\n",
       "      <td>7.7</td>\n",
       "      <td>2</td>\n",
       "      <td>made</td>\n",
       "      <td>Anderson, Alan</td>\n",
       "      <td>101187</td>\n",
       "      <td>1.3</td>\n",
       "      <td>1</td>\n",
       "      <td>2</td>\n",
       "      <td>brian roberts</td>\n",
       "      <td>203148</td>\n",
       "      <td>2015-03-04</td>\n",
       "      <td>BKN</td>\n",
       "      <td>CHA</td>\n",
       "      <td>CHA</td>\n",
       "    </tr>\n",
       "    <tr>\n",
       "      <th>1</th>\n",
       "      <td>21400899</td>\n",
       "      <td>MAR 04, 2015 - CHA @ BKN</td>\n",
       "      <td>A</td>\n",
       "      <td>W</td>\n",
       "      <td>24</td>\n",
       "      <td>2</td>\n",
       "      <td>1</td>\n",
       "      <td>0:14</td>\n",
       "      <td>3.4</td>\n",
       "      <td>0</td>\n",
       "      <td>0.8</td>\n",
       "      <td>28.2</td>\n",
       "      <td>3</td>\n",
       "      <td>missed</td>\n",
       "      <td>Bogdanovic, Bojan</td>\n",
       "      <td>202711</td>\n",
       "      <td>6.1</td>\n",
       "      <td>0</td>\n",
       "      <td>0</td>\n",
       "      <td>brian roberts</td>\n",
       "      <td>203148</td>\n",
       "      <td>2015-03-04</td>\n",
       "      <td>BKN</td>\n",
       "      <td>CHA</td>\n",
       "      <td>CHA</td>\n",
       "    </tr>\n",
       "    <tr>\n",
       "      <th>2</th>\n",
       "      <td>21400899</td>\n",
       "      <td>MAR 04, 2015 - CHA @ BKN</td>\n",
       "      <td>A</td>\n",
       "      <td>W</td>\n",
       "      <td>24</td>\n",
       "      <td>3</td>\n",
       "      <td>1</td>\n",
       "      <td>0:00</td>\n",
       "      <td>NaN</td>\n",
       "      <td>3</td>\n",
       "      <td>2.7</td>\n",
       "      <td>10.1</td>\n",
       "      <td>2</td>\n",
       "      <td>missed</td>\n",
       "      <td>Bogdanovic, Bojan</td>\n",
       "      <td>202711</td>\n",
       "      <td>0.9</td>\n",
       "      <td>0</td>\n",
       "      <td>0</td>\n",
       "      <td>brian roberts</td>\n",
       "      <td>203148</td>\n",
       "      <td>2015-03-04</td>\n",
       "      <td>BKN</td>\n",
       "      <td>CHA</td>\n",
       "      <td>CHA</td>\n",
       "    </tr>\n",
       "    <tr>\n",
       "      <th>3</th>\n",
       "      <td>21400899</td>\n",
       "      <td>MAR 04, 2015 - CHA @ BKN</td>\n",
       "      <td>A</td>\n",
       "      <td>W</td>\n",
       "      <td>24</td>\n",
       "      <td>4</td>\n",
       "      <td>2</td>\n",
       "      <td>11:47</td>\n",
       "      <td>10.3</td>\n",
       "      <td>2</td>\n",
       "      <td>1.9</td>\n",
       "      <td>17.2</td>\n",
       "      <td>2</td>\n",
       "      <td>missed</td>\n",
       "      <td>Brown, Markel</td>\n",
       "      <td>203900</td>\n",
       "      <td>3.4</td>\n",
       "      <td>0</td>\n",
       "      <td>0</td>\n",
       "      <td>brian roberts</td>\n",
       "      <td>203148</td>\n",
       "      <td>2015-03-04</td>\n",
       "      <td>BKN</td>\n",
       "      <td>CHA</td>\n",
       "      <td>CHA</td>\n",
       "    </tr>\n",
       "    <tr>\n",
       "      <th>4</th>\n",
       "      <td>21400899</td>\n",
       "      <td>MAR 04, 2015 - CHA @ BKN</td>\n",
       "      <td>A</td>\n",
       "      <td>W</td>\n",
       "      <td>24</td>\n",
       "      <td>5</td>\n",
       "      <td>2</td>\n",
       "      <td>10:34</td>\n",
       "      <td>10.9</td>\n",
       "      <td>2</td>\n",
       "      <td>2.7</td>\n",
       "      <td>3.7</td>\n",
       "      <td>2</td>\n",
       "      <td>missed</td>\n",
       "      <td>Young, Thaddeus</td>\n",
       "      <td>201152</td>\n",
       "      <td>1.1</td>\n",
       "      <td>0</td>\n",
       "      <td>0</td>\n",
       "      <td>brian roberts</td>\n",
       "      <td>203148</td>\n",
       "      <td>2015-03-04</td>\n",
       "      <td>BKN</td>\n",
       "      <td>CHA</td>\n",
       "      <td>CHA</td>\n",
       "    </tr>\n",
       "  </tbody>\n",
       "</table>\n",
       "</div>"
      ],
      "text/plain": [
       "    GAME_ID                   MATCHUP LOCATION  W  FINAL_MARGIN  SHOT_NUMBER  \\\n",
       "0  21400899  MAR 04, 2015 - CHA @ BKN        A  W            24            1   \n",
       "1  21400899  MAR 04, 2015 - CHA @ BKN        A  W            24            2   \n",
       "2  21400899  MAR 04, 2015 - CHA @ BKN        A  W            24            3   \n",
       "3  21400899  MAR 04, 2015 - CHA @ BKN        A  W            24            4   \n",
       "4  21400899  MAR 04, 2015 - CHA @ BKN        A  W            24            5   \n",
       "\n",
       "   PERIOD GAME_CLOCK  SHOT_CLOCK  DRIBBLES  TOUCH_TIME  SHOT_DIST  PTS_TYPE  \\\n",
       "0       1       1:09        10.8         2         1.9        7.7         2   \n",
       "1       1       0:14         3.4         0         0.8       28.2         3   \n",
       "2       1       0:00         NaN         3         2.7       10.1         2   \n",
       "3       2      11:47        10.3         2         1.9       17.2         2   \n",
       "4       2      10:34        10.9         2         2.7        3.7         2   \n",
       "\n",
       "  SHOT_RESULT   CLOSEST_DEFENDER  CLOSEST_DEFENDER_PLAYER_ID  CLOSE_DEF_DIST  \\\n",
       "0        made     Anderson, Alan                      101187             1.3   \n",
       "1      missed  Bogdanovic, Bojan                      202711             6.1   \n",
       "2      missed  Bogdanovic, Bojan                      202711             0.9   \n",
       "3      missed      Brown, Markel                      203900             3.4   \n",
       "4      missed    Young, Thaddeus                      201152             1.1   \n",
       "\n",
       "   FGM  PTS    PLAYER_NAME  PLAYER_ID      DATUM THUIS_TEAM UIT_TEAM WIN_TEAM  \n",
       "0    1    2  brian roberts     203148 2015-03-04        BKN      CHA      CHA  \n",
       "1    0    0  brian roberts     203148 2015-03-04        BKN      CHA      CHA  \n",
       "2    0    0  brian roberts     203148 2015-03-04        BKN      CHA      CHA  \n",
       "3    0    0  brian roberts     203148 2015-03-04        BKN      CHA      CHA  \n",
       "4    0    0  brian roberts     203148 2015-03-04        BKN      CHA      CHA  "
      ]
     },
     "execution_count": 20,
     "metadata": {},
     "output_type": "execute_result"
    }
   ],
   "source": [
    "df['DATUM']=df['MATCHUP'].apply(datum_split)\n",
    "df['DATUM']=df['DATUM'].apply(pd.to_datetime)\n",
    "df['THUIS_TEAM']=df['MATCHUP'].apply(thuis_team_split)\n",
    "df['UIT_TEAM']=df['MATCHUP'].apply(uit_team_split)\n",
    "# axis = 1 MOET ERBIJ!!!! specifieert dat het over rijen moet gaan en niet over kolommen\n",
    "df['WIN_TEAM']=df.apply(winning_team, axis=1)\n",
    "df.head()"
   ]
  },
  {
   "cell_type": "markdown",
   "metadata": {},
   "source": [
    "<h1>Analyse vd dataset adhv graphs</h1>"
   ]
  },
  {
   "cell_type": "markdown",
   "metadata": {},
   "source": [
    "<h3>Thuis / Uit voordeel voor ploegen en shotpercentage</h3>"
   ]
  },
  {
   "cell_type": "code",
   "execution_count": 21,
   "metadata": {
    "collapsed": true
   },
   "outputs": [],
   "source": [
    "# HOME/AWAY INVLOED OP SHOT ??\n",
    "# BEST/WORST CLUTCH TEAMS/SHOOTERS?\n",
    "# SPOT UP SHOOTER VS NON SPOT UP SHOOTER\n",
    "\n",
    "# Array van alle spelers (uniek)\n",
    "all_players = sorted((df['PLAYER_NAME'].unique()))\n",
    "\n",
    "# Functie die een playernaam ontvangt en hiervoor de percentage gemiste/gemaakte worpen in thuis/uit wedstrijden teruggeeft\n",
    "def home_away_specific_player(playername):\n",
    "    df3 = df[(df['PLAYER_NAME'] == str(playername))]\n",
    "    obj = df3.groupby(['LOCATION', 'SHOT_RESULT']).size()\n",
    "    \n",
    "    dict = {\n",
    "            'made_away': obj[0],\n",
    "            'missed_away': obj[1],\n",
    "            'made_home': obj[2],\n",
    "            'missed_home': obj[3]\n",
    "           }\n",
    "\n",
    "    return dict"
   ]
  },
  {
   "cell_type": "code",
   "execution_count": 22,
   "metadata": {
    "collapsed": true
   },
   "outputs": [],
   "source": [
    "# Maakt automatisch percentage van de value doorgegeven (nodig om value EN percent te tonen in pie chart)\n",
    "def make_autopct(values):\n",
    "    def my_autopct(pct):\n",
    "        total = sum(values)\n",
    "        val = int(round(pct*total/100.0))\n",
    "        return '{p:.2f}%  ({v:d})'.format(p=pct,v=val)\n",
    "    return my_autopct\n",
    "\n",
    "# Functie die de pie charts opstelt, roept ook de home_away_specific player functie aan om deze door te geven aan de pie chart\n",
    "def make_pie_shots(playername):\n",
    "    dict = home_away_specific_player(playername)\n",
    "    labels = 'Gescoord', 'Gemist'\n",
    "    values_home = [dict['made_home'],dict['missed_home']]\n",
    "    values_away = [dict['made_away'], dict['missed_away']]\n",
    "    \n",
    "    # Om de pie charts naast een te krijgen + op figure t zetten\n",
    "    fig1, (ax1, ax2) = plt.subplots(1, 2, sharey=True)\n",
    "    \n",
    "    # De 2 pies\n",
    "    ax1.pie(values_home, labels=labels, autopct=make_autopct(values_home), shadow=True, startangle=90)\n",
    "    ax1.axis('equal')  # Equal aspect ratio ensures that pie is drawn as a circle.\n",
    "    ax2.pie(values_away, labels=labels, autopct=make_autopct(values_away), shadow=True, startangle=90)\n",
    "    ax2.axis('equal')  # Equal aspect ratio ensures that pie is drawn as a circle.\n",
    "\n",
    "    # Titels van pies\n",
    "    ax1.set_title('shot % \\n THUIS')\n",
    "    ax2.set_title('shot % \\n UIT')\n",
    "    \n",
    "    # Pies niet laten overlappen (waarden zo laten staan, anders veel geknoei)\n",
    "    plt.subplots_adjust(top=0.92, bottom=0.08, left=0, right=1.3, hspace=0.5,\n",
    "                    wspace=15)\n",
    "    \n",
    "    # Pies groter maken\n",
    "    fig = plt.gcf()\n",
    "    fig.set_size_inches(6,6)\n",
    "    \n",
    "    # Show de plots\n",
    "    plt.show()\n",
    "    \n",
    "    "
   ]
  },
  {
   "cell_type": "code",
   "execution_count": 23,
   "metadata": {
    "scrolled": true
   },
   "outputs": [
    {
     "data": {
      "application/vnd.jupyter.widget-view+json": {
       "model_id": "b4db92a5d8f4426f9e412b8da3899b35"
      }
     },
     "metadata": {},
     "output_type": "display_data"
    },
    {
     "data": {
      "text/plain": [
       "<function __main__.make_pie_shots>"
      ]
     },
     "execution_count": 23,
     "metadata": {},
     "output_type": "execute_result"
    }
   ],
   "source": [
    "interact(make_pie_shots,playername = all_players)"
   ]
  },
  {
   "cell_type": "code",
   "execution_count": 24,
   "metadata": {},
   "outputs": [
    {
     "data": {
      "image/png": "[encoded data removed]",
      "text/plain": [
       "<matplotlib.figure.Figure at 0x1c84f3ab390>"
      ]
     },
     "metadata": {},
     "output_type": "display_data"
    }
   ],
   "source": [
    "# Counter voor spelers te tellen die beter shotten thuis/uit of gelijk\n",
    "counter_home = 0\n",
    "counter_away = 0\n",
    "counter_even = 0\n",
    "\n",
    "# Counter op laten tellen in for loop\n",
    "for player in all_players:\n",
    "    dict = home_away_specific_player(player)\n",
    "    total_home = sum([dict['made_home'],dict['missed_home']])\n",
    "    total_away = sum([dict['made_away'], dict['missed_away']])\n",
    "    perc_made_home = int((round(dict['made_home']*total_home)*100.0))\n",
    "    perc_made_away = int((round(dict['made_away']*total_away)*100.0))\n",
    "    \n",
    "    if perc_made_home > perc_made_away:\n",
    "        counter_home += 1\n",
    "    elif perc_made_home < perc_made_away:\n",
    "        counter_away += 1\n",
    "\n",
    "# Horizontale barchart opmaken        \n",
    "fig, ax = plt.subplots()\n",
    "labels = 'thuis FG% > uit FG%', 'thuis FG% < uit FG%'\n",
    "y_pos = np.arange(len(labels))\n",
    "performance = [counter_home, counter_away]\n",
    "\n",
    "ax.barh(y_pos, performance, align='center')\n",
    "ax.set_yticks(y_pos)\n",
    "ax.set_yticklabels(labels)\n",
    "ax.invert_yaxis() \n",
    "ax.set_xlabel('Aantal spelers')\n",
    "ax.set_title('thuisvoordeel voor shots')\n",
    "# values naast bar (v+3 is afstand tot bar, i = hoogte)\n",
    "for i, v in enumerate(performance):\n",
    "    ax.text(v + 3, i, str(v), color='black')\n",
    "\n",
    "plt.show()"
   ]
  },
  {
   "cell_type": "code",
   "execution_count": 25,
   "metadata": {
    "collapsed": true
   },
   "outputs": [],
   "source": [
    "# BIG PITFALL IN DE DATASET --> elke match staat er eigenlijk 2x in:\n",
    "#                              1. 1x als Uit_ploeg: @ thuis_ploeg\n",
    "#                              2. 1x als thuis_ploeg vs uit_ploeg \n",
    "# Dit is gewoon 1 match, maar staat er dubbel in om aan te geven bij welk team speler eigenlijk hoort.\n",
    "\n",
    "# Elke matchup er maar 1x in laten voorkomen\n",
    "\n",
    "\n",
    "# Array van alle teams\n",
    "all_teams = sorted((df['THUIS_TEAM'].unique()))\n",
    "\n",
    "def home_away_specific_team(team):\n",
    "    # THUIS\n",
    "    df4 = df.drop_duplicates(['MATCHUP'])\n",
    "    df4 = df4[(df4['THUIS_TEAM'] == str(team))]\n",
    "    df4 = df4.drop_duplicates(subset=['DATUM', 'THUIS_TEAM', 'UIT_TEAM'])\n",
    "    home_wins = len(df4[(df4['THUIS_TEAM'] == team) & (df4['WIN_TEAM'] == team)])  \n",
    "    home_losses = len(df4[(df4['THUIS_TEAM'] == team) & (df4['WIN_TEAM'] != team)]) \n",
    "    \n",
    "    # UIT\n",
    "    df5 = df.drop_duplicates(['MATCHUP'])\n",
    "    df5 = df5[(df5['UIT_TEAM'] == str(team))]\n",
    "    df5 = df5.drop_duplicates(subset=['DATUM', 'THUIS_TEAM', 'UIT_TEAM'])  \n",
    "    away_wins = len(df5[(df5['UIT_TEAM'] == team) & (df5['WIN_TEAM'] == team)]) \n",
    "    away_losses = len(df5[(df5['UIT_TEAM'] == team) & (df5['WIN_TEAM'] != team)]) \n",
    "    dict = {\n",
    "            'home_losses':  home_losses,\n",
    "            'home_wins': home_wins,\n",
    "            'away_losses': away_losses,\n",
    "            'away_wins': away_wins\n",
    "           }\n",
    "\n",
    "    return dict\n"
   ]
  },
  {
   "cell_type": "code",
   "execution_count": 26,
   "metadata": {
    "collapsed": true
   },
   "outputs": [],
   "source": [
    "# Maakt automatisch percentage van de value doorgegeven (nodig om value EN percent te tonen in pie chart)\n",
    "def make_autopct(values):\n",
    "    def my_autopct(pct):\n",
    "        total = sum(values)\n",
    "        val = int(round(pct*total/100.0))\n",
    "        return '{p:.2f}%  ({v:d})'.format(p=pct,v=val)\n",
    "    return my_autopct\n",
    "\n",
    "# Functie die de pie charts opstelt, roept ook de home_away_specific player functie aan om deze door te geven aan de pie chart\n",
    "def make_pie_teams(team):\n",
    "    dict = home_away_specific_team(team)\n",
    "    labels = 'Winst', 'Verlies'\n",
    "    values_home = [dict['home_wins'],dict['home_losses']]\n",
    "    values_away = [dict['away_wins'],dict['away_losses']]\n",
    "    \n",
    "    # Om de pie charts naast een te krijgen + op figure t zetten\n",
    "    fig1, (ax1, ax2) = plt.subplots(1, 2, sharey=True)\n",
    "    \n",
    "    # De 2 pies\n",
    "    ax1.pie(values_home, labels=labels, autopct=make_autopct(values_home), shadow=True, startangle=90)\n",
    "    ax1.axis('equal')  # Equal aspect ratio ensures that pie is drawn as a circle.\n",
    "    ax2.pie(values_away, labels=labels, autopct=make_autopct(values_away), shadow=True, startangle=90)\n",
    "    ax2.axis('equal')  # Equal aspect ratio ensures that pie is drawn as a circle.\n",
    "\n",
    "    # Titels van pies\n",
    "    ax1.set_title('Winst/verlies %\\n THUIS')\n",
    "    ax2.set_title('Winst/verlies %\\n UIT')\n",
    "    \n",
    "    # Pies niet laten overlappen (waarden zo laten staan, anders veel geknoei)\n",
    "    plt.subplots_adjust(top=0.92, bottom=0.08, left=0, right=1.3, hspace=0.5,\n",
    "                    wspace=15)\n",
    "    \n",
    "    # Pies groter maken\n",
    "    fig = plt.gcf()\n",
    "    fig.set_size_inches(6,6)\n",
    "    \n",
    "    # Show de plots\n",
    "    plt.show()\n",
    "    "
   ]
  },
  {
   "cell_type": "code",
   "execution_count": 27,
   "metadata": {},
   "outputs": [
    {
     "data": {
      "application/vnd.jupyter.widget-view+json": {
       "model_id": "c871d0e04a8d4a0d854a5ae47aec150b"
      }
     },
     "metadata": {},
     "output_type": "display_data"
    },
    {
     "data": {
      "text/plain": [
       "<function __main__.make_pie_teams>"
      ]
     },
     "execution_count": 27,
     "metadata": {},
     "output_type": "execute_result"
    }
   ],
   "source": [
    "interact(make_pie_teams,team = all_teams)"
   ]
  },
  {
   "cell_type": "code",
   "execution_count": 28,
   "metadata": {},
   "outputs": [
    {
     "data": {
      "image/png": "[encoded data removed]",
      "text/plain": [
       "<matplotlib.figure.Figure at 0x1c8501db198>"
      ]
     },
     "metadata": {},
     "output_type": "display_data"
    }
   ],
   "source": [
    "# THUIS UIT WIN LOS\n",
    "# https://matplotlib.org/examples/pylab_examples/bar_stacked.html\n",
    "# https://matplotlib.org/examples/api/barchart_demo.html\n",
    "\n",
    "# Counter voor teams te tellen die meer/minder/gelijk thuis winnen\n",
    "counter_home = 0\n",
    "counter_away = 0\n",
    "counter_even = 0\n",
    "\n",
    "# Counter op laten tellen in for loop\n",
    "for team in all_teams:\n",
    "    dict = home_away_specific_team(team)\n",
    "    total_home = sum([dict['home_losses'], dict['home_wins']])\n",
    "    total_away = sum([dict['away_losses'], dict['away_wins']])\n",
    "    perc_win_home = int((round(dict['home_wins']*total_home)*100.0))\n",
    "    perc_win_away = int((round(dict['away_wins']*total_away)*100.0))\n",
    "    \n",
    "    if perc_win_home > perc_win_away:\n",
    "        counter_home += 1\n",
    "    elif perc_win_home < perc_win_away:\n",
    "        counter_away += 1\n",
    "    else: \n",
    "        counter_even += 1\n",
    "\n",
    "# Horizontale barchart opmaken        \n",
    "fig, ax = plt.subplots()\n",
    "labels = 'thuis win% > uit win%', 'thuis win% < uit win%', 'thuis win% = uit win%'\n",
    "y_pos = np.arange(len(labels))\n",
    "performance = [counter_home, counter_away, counter_even]\n",
    "\n",
    "ax.barh(y_pos, performance, align='center')\n",
    "ax.set_yticks(y_pos)\n",
    "ax.set_yticklabels(labels)\n",
    "ax.invert_yaxis() \n",
    "ax.set_xlabel('Aantal teams')\n",
    "ax.set_title('thuisvoordeel voor teams')\n",
    "# values naast bar (v+3 is afstand tot bar, i = hoogte)\n",
    "for i, v in enumerate(performance):\n",
    "    ax.text(v + 3, i, str(v), color='black')\n",
    "\n",
    "plt.show()\n"
   ]
  },
  {
   "cell_type": "markdown",
   "metadata": {},
   "source": [
    "<h1> Fear factor ratio </h1>"
   ]
  },
  {
   "cell_type": "code",
   "execution_count": 36,
   "metadata": {
    "collapsed": true
   },
   "outputs": [],
   "source": [
    "players['Name'] = players.Name.apply(lambda x: x.strip(',.').lower())\n",
    "df['Defender_Name'] = df.CLOSEST_DEFENDER.apply(lambda x: x.split(',')[0])"
   ]
  },
  {
   "cell_type": "code",
   "execution_count": 37,
   "metadata": {
    "collapsed": true
   },
   "outputs": [],
   "source": [
    " def surname(full_name):\n",
    "    split = full_name.split(' ')\n",
    "    if len(split) == 2:\n",
    "        return split[1]\n",
    "    else:\n",
    "        return ' '\n",
    "   \n",
    "players['Name'] = players.Name.apply(lambda x: x.strip(',.').lower())\n",
    "players['Surname'] = players.Name.apply(lambda x: surname(x))\n",
    "df['Defender_Name'] = df.CLOSEST_DEFENDER.apply(lambda x: x.split(',')[0].strip(',.').lower())\n",
    "\n",
    "df['Player_Height'] = df.player_name.apply(lambda x: players.Height[players.Name == x].values[0] if len(players.Height[players.Name == x].values)>0 else 0) \n",
    "df['Defender_Height'] = df.Defender_Name.apply(lambda x: players.Height[players.Surname == x].values[0] if len(players.Height[players.Surname == x].values)>0 else 0) \n",
    "df['Height_Diff'] = df.Player_Height - df.Defender_Height"
   ]
  },
  {
   "cell_type": "code",
   "execution_count": 38,
   "metadata": {
    "collapsed": true
   },
   "outputs": [],
   "source": [
    "df = df[np.abs(df.Height_Diff) < 50]\n",
    "df = df[df.Defender_Height>0]\n",
    "df = df[df.Player_Height > 0]"
   ]
  },
  {
   "cell_type": "code",
   "execution_count": 52,
   "metadata": {},
   "outputs": [
    {
     "data": {
      "image/png": "[encoded data removed]",
      "text/plain": [
       "<matplotlib.figure.Figure at 0x1c84cb8b5f8>"
      ]
     },
     "metadata": {},
     "output_type": "display_data"
    }
   ],
   "source": [
    "plt.subplot(2,2,3)\n",
    "lim = 10\n",
    "dist_data = df[df.SHOT_DIST<lim+0.5]\n",
    "dist_data = dist_data[dist_data.SHOT_DIST>lim-0.5]\n",
    "dist_data = dist_data[dist_data.CLOSE_DEF_DIST<8]\n",
    "\n",
    "x = dist_data.Height_Diff + np.random.normal(0,1.25,len(dist_data))\n",
    "y = dist_data.CLOSE_DEF_DIST*0.3048\n",
    "plt.plot(x,y,'o',alpha = 0.4, markersize = 5)\n",
    "fit = np.polyfit(x,y,1)\n",
    "fit_fn = np.poly1d(fit) \n",
    "plt.plot(x, fit_fn(x),'r')\n",
    "plt.xlabel('Height Difference [cm]')\n",
    "plt.ylabel('Distance From Defender [m]')\n",
    "\n",
    "\n",
    "plt.subplot(2,2,1)\n",
    "lim = 23\n",
    "dist_data = df[df.SHOT_DIST<lim+1]\n",
    "dist_data = dist_data[dist_data.SHOT_DIST>lim-1]\n",
    "dist_data = dist_data[dist_data.CLOSE_DEF_DIST<8]\n",
    "\n",
    "x = dist_data.Height_Diff + np.random.normal(0,1.25,len(dist_data))\n",
    "y = dist_data.CLOSE_DEF_DIST*0.3048\n",
    "plt.plot(x,y,'o',alpha = 0.4, markersize = 5)\n",
    "fit = np.polyfit(x,y,1)\n",
    "fit_fn = np.poly1d(fit) \n",
    "plt.plot(x, fit_fn(x),'r')\n",
    "plt.xlabel('Height Difference [cm]')\n",
    "plt.ylabel('Distance From Defender [m]')\n",
    "\n",
    "\n",
    "plt.subplot(2,2,2)\n",
    "lim = 15\n",
    "dist_data = df[df.SHOT_DIST<lim+0.5]\n",
    "dist_data = dist_data[dist_data.SHOT_DIST>lim-0.5]\n",
    "dist_data = dist_data[dist_data.CLOSE_DEF_DIST<8]\n",
    "\n",
    "x = dist_data.Height_Diff + np.random.normal(0,1.25,len(dist_data))\n",
    "y = dist_data.CLOSE_DEF_DIST*0.3048\n",
    "plt.plot(x,y,'o',alpha = 0.4, markersize = 5)\n",
    "fit = np.polyfit(x,y,1)\n",
    "fit_fn = np.poly1d(fit) \n",
    "plt.plot(x, fit_fn(x),'r')\n",
    "plt.xlabel('Height Difference [cm]')\n",
    "plt.ylabel('Distance From Defender [m]')\n",
    "plt.show()"
   ]
  },
  {
   "cell_type": "code",
   "execution_count": 53,
   "metadata": {},
   "outputs": [
    {
     "data": {
      "image/png": "[encoded data removed]",
      "text/plain": [
       "<matplotlib.figure.Figure at 0x1c84f07a080>"
      ]
     },
     "metadata": {},
     "output_type": "display_data"
    }
   ],
   "source": [
    "x = dist_data.Defender_Height + np.random.normal(0,1.25,len(dist_data))\n",
    "y = dist_data.CLOSE_DEF_DIST*0.3048\n",
    "plt.plot(x,y,'o',alpha = 0.4)\n",
    "fit = np.polyfit(x,y,1)\n",
    "fit_fn = np.poly1d(fit) \n",
    "plt.plot(x, fit_fn(x),'r')\n",
    "plt.xlabel('Defender Height [cm]')\n",
    "plt.ylabel('Distance From Defender [m]')\n",
    "plt.show()"
   ]
  },
  {
   "cell_type": "code",
   "execution_count": null,
   "metadata": {
    "collapsed": true
   },
   "outputs": [],
   "source": []
  },
  {
   "cell_type": "code",
   "execution_count": null,
   "metadata": {
    "collapsed": true
   },
   "outputs": [],
   "source": []
  }
 ],
 "metadata": {
  "kernelspec": {
   "display_name": "Python 3",
   "language": "python",
   "name": "python3"
  },
  "language_info": {
   "codemirror_mode": {
    "name": "ipython",
    "version": 3
   },
   "file_extension": ".py",
   "mimetype": "text/x-python",
   "name": "python",
   "nbconvert_exporter": "python",
   "pygments_lexer": "ipython3",
   "version": "3.6.1"
  }
 },
 "nbformat": 4,
 "nbformat_minor": 2
}
