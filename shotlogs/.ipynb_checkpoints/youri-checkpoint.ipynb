{
 "cells": [
  {
   "cell_type": "code",
   "execution_count": null,
   "metadata": {
    "collapsed": true
   },
   "outputs": [],
   "source": [
    "import pandas as pd\n",
    "import numpy as np\n",
    "import matplotlib.pyplot as plt\n",
    "from ipywidgets import interact, interactive, fixed, interact_manual\n",
    "import ipywidgets as widgets\n",
    "plt.style.use('fivethirtyeight')\n",
    "pd.options.display.max_columns = 30"
   ]
  },
  {
   "cell_type": "markdown",
   "metadata": {},
   "source": [
    "<h1>Pandas performance optimaliseren</h1>"
   ]
  },
  {
   "cell_type": "code",
   "execution_count": null,
   "metadata": {
    "scrolled": true
   },
   "outputs": [],
   "source": [
    "# Csv file inlezen in een python dataframe\n",
    "df = pd.read_csv('data/shot_logs.csv')\n",
    "df2 = df.copy()\n",
    "\n"
   ]
  },
  {
   "cell_type": "markdown",
   "metadata": {},
   "source": [
    "<h3>Gewone loops in pandas</h3>"
   ]
  },
  {
   "cell_type": "code",
   "execution_count": null,
   "metadata": {
    "collapsed": true
   },
   "outputs": [],
   "source": [
    "# functie die gewoon doe alle rows afgaat en de waarde in een nieuwe lijst steekt\n",
    "def manuele_loop(df):\n",
    "    test_list = []\n",
    "    for i in range(0, len(df)):\n",
    "        d = df.iloc[i]['SHOT_CLOCK']\n",
    "        test_list.append(d)\n",
    "    return test_list"
   ]
  },
  {
   "cell_type": "code",
   "execution_count": null,
   "metadata": {},
   "outputs": [],
   "source": [
    "%%timeit -o\n",
    "# Maneuele loop functie runnen en timen\n",
    "df['testkolom'] = manuele_loop(df)\n"
   ]
  },
  {
   "cell_type": "markdown",
   "metadata": {},
   "source": [
    "<h3>Loopen met iterrows()</h3>"
   ]
  },
  {
   "cell_type": "code",
   "execution_count": null,
   "metadata": {},
   "outputs": [],
   "source": [
    "%%timeit -o\n",
    "\n",
    "# Gebruik van iterrows()\n",
    "test_list = []\n",
    "for index, row in df.iterrows():\n",
    "    test_list.append(df['SHOT_CLOCK'])\n",
    "df['testkolom'] = test_list\n",
    "\n",
    "_.best"
   ]
  },
  {
   "cell_type": "markdown",
   "metadata": {},
   "source": [
    "<h3>Loopen met de apply() methode</h3>"
   ]
  },
  {
   "cell_type": "code",
   "execution_count": 31,
   "metadata": {},
   "outputs": [
    {
     "name": "stdout",
     "output_type": "stream",
     "text": [
      "10 loops, best of 3: 75.9 ms per loop\n"
     ]
    },
    {
     "data": {
      "text/plain": [
       "0.08371239506141137"
      ]
     },
     "execution_count": 31,
     "metadata": {},
     "output_type": "execute_result"
    }
   ],
   "source": [
    "result = %timeit -o df['testkolom'] = df.apply(lambda row: df['SHOT_CLOCK'])\n",
    "result.worst\n"
   ]
  },
  {
   "cell_type": "markdown",
   "metadata": {},
   "source": [
    "<h3>Vectoriseren over pandas series (executie over een volledige array)</h3>"
   ]
  },
  {
   "cell_type": "code",
   "execution_count": 32,
   "metadata": {},
   "outputs": [
    {
     "name": "stdout",
     "output_type": "stream",
     "text": [
      "The slowest run took 4.58 times longer than the fastest. This could mean that an intermediate result is being cached.\n",
      "1000 loops, best of 3: 185 µs per loop\n"
     ]
    },
    {
     "data": {
      "text/plain": [
       "0.00018458824691333574"
      ]
     },
     "execution_count": 32,
     "metadata": {},
     "output_type": "execute_result"
    }
   ],
   "source": [
    "result = %timeit -o df['testkolom'] = df['SHOT_CLOCK']\n",
    "result.best"
   ]
  },
  {
   "cell_type": "code",
   "execution_count": 8,
   "metadata": {},
   "outputs": [
    {
     "data": {
      "text/html": [
       "<div>\n",
       "<style>\n",
       "    .dataframe thead tr:only-child th {\n",
       "        text-align: right;\n",
       "    }\n",
       "\n",
       "    .dataframe thead th {\n",
       "        text-align: left;\n",
       "    }\n",
       "\n",
       "    .dataframe tbody tr th {\n",
       "        vertical-align: top;\n",
       "    }\n",
       "</style>\n",
       "<table border=\"1\" class=\"dataframe\">\n",
       "  <thead>\n",
       "    <tr style=\"text-align: right;\">\n",
       "      <th></th>\n",
       "      <th>TYPE VAN LOOP</th>\n",
       "      <th>UITVOERSNELHEID</th>\n",
       "      <th>IMPROVEMENT</th>\n",
       "    </tr>\n",
       "  </thead>\n",
       "  <tbody>\n",
       "    <tr>\n",
       "      <th>0</th>\n",
       "      <td>Manuele loop</td>\n",
       "      <td>25 800 ms</td>\n",
       "      <td></td>\n",
       "    </tr>\n",
       "    <tr>\n",
       "      <th>1</th>\n",
       "      <td>iterrows loop</td>\n",
       "      <td>7 270 ms</td>\n",
       "      <td>x3,5</td>\n",
       "    </tr>\n",
       "    <tr>\n",
       "      <th>2</th>\n",
       "      <td>apply loops</td>\n",
       "      <td>90.8 ms</td>\n",
       "      <td>x80</td>\n",
       "    </tr>\n",
       "    <tr>\n",
       "      <th>3</th>\n",
       "      <td>Vectoriseren</td>\n",
       "      <td>0.302 ms</td>\n",
       "      <td>x300</td>\n",
       "    </tr>\n",
       "  </tbody>\n",
       "</table>\n",
       "</div>"
      ],
      "text/plain": [
       "   TYPE VAN LOOP UITVOERSNELHEID IMPROVEMENT\n",
       "0   Manuele loop       25 800 ms            \n",
       "1  iterrows loop        7 270 ms        x3,5\n",
       "2    apply loops         90.8 ms         x80\n",
       "3   Vectoriseren        0.302 ms        x300"
      ]
     },
     "execution_count": 8,
     "metadata": {},
     "output_type": "execute_result"
    }
   ],
   "source": [
    "sales = [(\"TYPE VAN LOOP\", [\"Manuele loop\", \"iterrows loop\", \"apply loops\", \"Vectoriseren\"]),\n",
    "         (\"UITVOERSNELHEID\", [\"25 800 ms\", \"7 270 ms\", \"90.8 ms\", \"0.302 ms\"]),\n",
    "         (\"IMPROVEMENT\", [\" \", \"x3,5\", \"x80\",\"x300\"])\n",
    "         ]\n",
    "df2 = pd.DataFrame.from_items(sales)\n",
    "df2"
   ]
  },
  {
   "cell_type": "markdown",
   "metadata": {},
   "source": [
    "<h1>De dataset opkuisen</h1>"
   ]
  },
  {
   "cell_type": "code",
   "execution_count": 9,
   "metadata": {},
   "outputs": [
    {
     "data": {
      "text/html": [
       "<div>\n",
       "<style>\n",
       "    .dataframe thead tr:only-child th {\n",
       "        text-align: right;\n",
       "    }\n",
       "\n",
       "    .dataframe thead th {\n",
       "        text-align: left;\n",
       "    }\n",
       "\n",
       "    .dataframe tbody tr th {\n",
       "        vertical-align: top;\n",
       "    }\n",
       "</style>\n",
       "<table border=\"1\" class=\"dataframe\">\n",
       "  <thead>\n",
       "    <tr style=\"text-align: right;\">\n",
       "      <th></th>\n",
       "      <th>GAME_ID</th>\n",
       "      <th>FINAL_MARGIN</th>\n",
       "      <th>SHOT_NUMBER</th>\n",
       "      <th>PERIOD</th>\n",
       "      <th>SHOT_CLOCK</th>\n",
       "      <th>DRIBBLES</th>\n",
       "      <th>TOUCH_TIME</th>\n",
       "      <th>SHOT_DIST</th>\n",
       "      <th>PTS_TYPE</th>\n",
       "      <th>CLOSEST_DEFENDER_PLAYER_ID</th>\n",
       "      <th>CLOSE_DEF_DIST</th>\n",
       "      <th>FGM</th>\n",
       "      <th>PTS</th>\n",
       "      <th>PLAYER_ID</th>\n",
       "    </tr>\n",
       "  </thead>\n",
       "  <tbody>\n",
       "    <tr>\n",
       "      <th>count</th>\n",
       "      <td>1.280690e+05</td>\n",
       "      <td>128069.000000</td>\n",
       "      <td>128069.000000</td>\n",
       "      <td>128069.000000</td>\n",
       "      <td>122502.000000</td>\n",
       "      <td>128069.000000</td>\n",
       "      <td>128069.000000</td>\n",
       "      <td>128069.000000</td>\n",
       "      <td>128069.000000</td>\n",
       "      <td>128069.000000</td>\n",
       "      <td>128069.000000</td>\n",
       "      <td>128069.000000</td>\n",
       "      <td>128069.000000</td>\n",
       "      <td>128069.000000</td>\n",
       "    </tr>\n",
       "    <tr>\n",
       "      <th>mean</th>\n",
       "      <td>2.140045e+07</td>\n",
       "      <td>0.208723</td>\n",
       "      <td>6.506899</td>\n",
       "      <td>2.469427</td>\n",
       "      <td>12.453344</td>\n",
       "      <td>2.023355</td>\n",
       "      <td>2.765901</td>\n",
       "      <td>13.571504</td>\n",
       "      <td>2.264670</td>\n",
       "      <td>159038.487284</td>\n",
       "      <td>4.123015</td>\n",
       "      <td>0.452139</td>\n",
       "      <td>0.997314</td>\n",
       "      <td>157238.251247</td>\n",
       "    </tr>\n",
       "    <tr>\n",
       "      <th>std</th>\n",
       "      <td>2.578773e+02</td>\n",
       "      <td>13.233267</td>\n",
       "      <td>4.713260</td>\n",
       "      <td>1.139919</td>\n",
       "      <td>5.763265</td>\n",
       "      <td>3.477760</td>\n",
       "      <td>3.043682</td>\n",
       "      <td>8.888964</td>\n",
       "      <td>0.441159</td>\n",
       "      <td>78791.172947</td>\n",
       "      <td>2.756446</td>\n",
       "      <td>0.497706</td>\n",
       "      <td>1.130978</td>\n",
       "      <td>79362.389336</td>\n",
       "    </tr>\n",
       "    <tr>\n",
       "      <th>min</th>\n",
       "      <td>2.140000e+07</td>\n",
       "      <td>-53.000000</td>\n",
       "      <td>1.000000</td>\n",
       "      <td>1.000000</td>\n",
       "      <td>0.000000</td>\n",
       "      <td>0.000000</td>\n",
       "      <td>-163.600000</td>\n",
       "      <td>0.000000</td>\n",
       "      <td>2.000000</td>\n",
       "      <td>708.000000</td>\n",
       "      <td>0.000000</td>\n",
       "      <td>0.000000</td>\n",
       "      <td>0.000000</td>\n",
       "      <td>708.000000</td>\n",
       "    </tr>\n",
       "    <tr>\n",
       "      <th>25%</th>\n",
       "      <td>2.140023e+07</td>\n",
       "      <td>-8.000000</td>\n",
       "      <td>3.000000</td>\n",
       "      <td>1.000000</td>\n",
       "      <td>8.200000</td>\n",
       "      <td>0.000000</td>\n",
       "      <td>0.900000</td>\n",
       "      <td>4.700000</td>\n",
       "      <td>2.000000</td>\n",
       "      <td>101249.000000</td>\n",
       "      <td>2.300000</td>\n",
       "      <td>0.000000</td>\n",
       "      <td>0.000000</td>\n",
       "      <td>101162.000000</td>\n",
       "    </tr>\n",
       "    <tr>\n",
       "      <th>50%</th>\n",
       "      <td>2.140045e+07</td>\n",
       "      <td>1.000000</td>\n",
       "      <td>5.000000</td>\n",
       "      <td>2.000000</td>\n",
       "      <td>12.300000</td>\n",
       "      <td>1.000000</td>\n",
       "      <td>1.600000</td>\n",
       "      <td>13.700000</td>\n",
       "      <td>2.000000</td>\n",
       "      <td>201949.000000</td>\n",
       "      <td>3.700000</td>\n",
       "      <td>0.000000</td>\n",
       "      <td>0.000000</td>\n",
       "      <td>201939.000000</td>\n",
       "    </tr>\n",
       "    <tr>\n",
       "      <th>75%</th>\n",
       "      <td>2.140067e+07</td>\n",
       "      <td>9.000000</td>\n",
       "      <td>9.000000</td>\n",
       "      <td>3.000000</td>\n",
       "      <td>16.675000</td>\n",
       "      <td>2.000000</td>\n",
       "      <td>3.700000</td>\n",
       "      <td>22.500000</td>\n",
       "      <td>3.000000</td>\n",
       "      <td>203079.000000</td>\n",
       "      <td>5.300000</td>\n",
       "      <td>1.000000</td>\n",
       "      <td>2.000000</td>\n",
       "      <td>202704.000000</td>\n",
       "    </tr>\n",
       "    <tr>\n",
       "      <th>max</th>\n",
       "      <td>2.140091e+07</td>\n",
       "      <td>53.000000</td>\n",
       "      <td>38.000000</td>\n",
       "      <td>7.000000</td>\n",
       "      <td>24.000000</td>\n",
       "      <td>32.000000</td>\n",
       "      <td>24.900000</td>\n",
       "      <td>47.200000</td>\n",
       "      <td>3.000000</td>\n",
       "      <td>530027.000000</td>\n",
       "      <td>53.200000</td>\n",
       "      <td>1.000000</td>\n",
       "      <td>3.000000</td>\n",
       "      <td>204060.000000</td>\n",
       "    </tr>\n",
       "  </tbody>\n",
       "</table>\n",
       "</div>"
      ],
      "text/plain": [
       "            GAME_ID   FINAL_MARGIN    SHOT_NUMBER         PERIOD  \\\n",
       "count  1.280690e+05  128069.000000  128069.000000  128069.000000   \n",
       "mean   2.140045e+07       0.208723       6.506899       2.469427   \n",
       "std    2.578773e+02      13.233267       4.713260       1.139919   \n",
       "min    2.140000e+07     -53.000000       1.000000       1.000000   \n",
       "25%    2.140023e+07      -8.000000       3.000000       1.000000   \n",
       "50%    2.140045e+07       1.000000       5.000000       2.000000   \n",
       "75%    2.140067e+07       9.000000       9.000000       3.000000   \n",
       "max    2.140091e+07      53.000000      38.000000       7.000000   \n",
       "\n",
       "          SHOT_CLOCK       DRIBBLES     TOUCH_TIME      SHOT_DIST  \\\n",
       "count  122502.000000  128069.000000  128069.000000  128069.000000   \n",
       "mean       12.453344       2.023355       2.765901      13.571504   \n",
       "std         5.763265       3.477760       3.043682       8.888964   \n",
       "min         0.000000       0.000000    -163.600000       0.000000   \n",
       "25%         8.200000       0.000000       0.900000       4.700000   \n",
       "50%        12.300000       1.000000       1.600000      13.700000   \n",
       "75%        16.675000       2.000000       3.700000      22.500000   \n",
       "max        24.000000      32.000000      24.900000      47.200000   \n",
       "\n",
       "            PTS_TYPE  CLOSEST_DEFENDER_PLAYER_ID  CLOSE_DEF_DIST  \\\n",
       "count  128069.000000               128069.000000   128069.000000   \n",
       "mean        2.264670               159038.487284        4.123015   \n",
       "std         0.441159                78791.172947        2.756446   \n",
       "min         2.000000                  708.000000        0.000000   \n",
       "25%         2.000000               101249.000000        2.300000   \n",
       "50%         2.000000               201949.000000        3.700000   \n",
       "75%         3.000000               203079.000000        5.300000   \n",
       "max         3.000000               530027.000000       53.200000   \n",
       "\n",
       "                 FGM            PTS      PLAYER_ID  \n",
       "count  128069.000000  128069.000000  128069.000000  \n",
       "mean        0.452139       0.997314  157238.251247  \n",
       "std         0.497706       1.130978   79362.389336  \n",
       "min         0.000000       0.000000     708.000000  \n",
       "25%         0.000000       0.000000  101162.000000  \n",
       "50%         0.000000       0.000000  201939.000000  \n",
       "75%         1.000000       2.000000  202704.000000  \n",
       "max         1.000000       3.000000  204060.000000  "
      ]
     },
     "execution_count": 9,
     "metadata": {},
     "output_type": "execute_result"
    }
   ],
   "source": [
    "# headers van df.columns\n",
    "#'GAME_ID', 'MATCHUP', 'LOCATION', 'W', 'FINAL_MARGIN', 'SHOT_NUMBER',\n",
    "#'PERIOD', 'GAME_CLOCK', 'SHOT_CLOCK', 'DRIBBLES', 'TOUCH_TIME',\n",
    "#'SHOT_DIST', 'PTS_TYPE', 'SHOT_RESULT', 'CLOSEST_DEFENDER',\n",
    "#'CLOSEST_DEFENDER_PLAYER_ID', 'CLOSE_DEF_DIST', 'FGM', 'PTS',\n",
    "#'player_name', 'player_id'\n",
    "df = pd.read_csv('data/shot_logs.csv')\n",
    "df.columns = map(str.upper, df.columns)\n",
    "df.describe()\n"
   ]
  },
  {
   "cell_type": "markdown",
   "metadata": {},
   "source": [
    "<h3>Null values in dataset</h3>"
   ]
  },
  {
   "cell_type": "code",
   "execution_count": 10,
   "metadata": {},
   "outputs": [
    {
     "data": {
      "text/plain": [
       "GAME_ID                          0\n",
       "MATCHUP                          0\n",
       "LOCATION                         0\n",
       "W                                0\n",
       "FINAL_MARGIN                     0\n",
       "SHOT_NUMBER                      0\n",
       "PERIOD                           0\n",
       "GAME_CLOCK                       0\n",
       "SHOT_CLOCK                    5567\n",
       "DRIBBLES                         0\n",
       "TOUCH_TIME                       0\n",
       "SHOT_DIST                        0\n",
       "PTS_TYPE                         0\n",
       "SHOT_RESULT                      0\n",
       "CLOSEST_DEFENDER                 0\n",
       "CLOSEST_DEFENDER_PLAYER_ID       0\n",
       "CLOSE_DEF_DIST                   0\n",
       "FGM                              0\n",
       "PTS                              0\n",
       "PLAYER_NAME                      0\n",
       "PLAYER_ID                        0\n",
       "dtype: int64"
      ]
     },
     "execution_count": 10,
     "metadata": {},
     "output_type": "execute_result"
    }
   ],
   "source": [
    "# Check welke kolommen null values bevatten\n",
    "df.isnull().sum()"
   ]
  },
  {
   "cell_type": "code",
   "execution_count": 11,
   "metadata": {},
   "outputs": [
    {
     "name": "stdout",
     "output_type": "stream",
     "text": [
      "totaal aantal rijen in SHOT_CLOCK met NaN: 5567\n",
      "Aaantal % van de SHOT_CLOCK kolom NaN: 4.0 %\n"
     ]
    }
   ],
   "source": [
    "# Totaal aantal rijen waar SHOT_CLICK = NaN en hoeveel % vd dataset\n",
    "shotclock_nan = len (df[df['SHOT_CLOCK'].isnull()])\n",
    "print(\"totaal aantal rijen in SHOT_CLOCK met NaN: \" + str(shotclock_nan))\n",
    "print (\"Aaantal % van de SHOT_CLOCK kolom NaN: \" + str(round(float(len (df[df.SHOT_CLOCK.isnull()==True]))/float(len (df)),2)*100),'%')"
   ]
  },
  {
   "cell_type": "code",
   "execution_count": 12,
   "metadata": {},
   "outputs": [
    {
     "name": "stdout",
     "output_type": "stream",
     "text": [
      "Aantal NaN als game clock <= 24 seconden: 3554\n",
      "Aantal NaN als game clock > 24 seconden: 2013\n",
      "Aantal instanties waar shotclock  is valid time en game clock < 24: 2118\n"
     ]
    }
   ],
   "source": [
    "# Theorie shotclock = NaN?\n",
    "# In basketbal wanneer game clock < 24 seconden, wordt de shotclock afgezet, dit zou dus kunnen leiden tot deze values.\n",
    "# Om na te gaan of dit werkelijk de oorzaak is gaan we 3 tests doen:\n",
    "#      1. Kijken of er degelijk NaN waarden zijn als game clock < 24 seconden\n",
    "#      2. Kijken of er nog altijd NaN waarden zijn als game clock > 24 seconden\n",
    "#      3. Kijken of er instanties bestaan waarbij de shotclock valid time heeft en game clock < 24\n",
    "\n",
    "nan_under_24 = len(df[(df['GAME_CLOCK'] <= '0:24') & (df['SHOT_CLOCK'].isnull())])\n",
    "nan_over_24 = len(df[(df['GAME_CLOCK'] > '0:24') & (df['SHOT_CLOCK'].isnull())])\n",
    "valid_under_24 = len(df[(df['GAME_CLOCK'] <= '0:24') & (~df['SHOT_CLOCK'].isnull())])\n",
    "\n",
    "print(\"Aantal NaN als game clock <= 24 seconden: \" + str(nan_under_24))\n",
    "print(\"Aantal NaN als game clock > 24 seconden: \" + str(nan_over_24))\n",
    "print(\"Aantal instanties waar shotclock  is valid time en game clock < 24: \" + str(valid_under_24))\n",
    "\n",
    "# Conclusie: Er is geen logische verklaring voor shotclock = NaN.\n",
    "# Aangezien bij game clock < 24, de shot clock zowel NaN kan zijn, als een valid time."
   ]
  },
  {
   "cell_type": "code",
   "execution_count": 13,
   "metadata": {
    "collapsed": true
   },
   "outputs": [],
   "source": [
    "# Rows verwijderen waar shot clock = NaN\n",
    "# nan=float('nan')\n",
    "# df=df[~np.isnan(df['SHOT_CLOCK'])]"
   ]
  },
  {
   "cell_type": "markdown",
   "metadata": {},
   "source": [
    "<h3>Fouten & aanpassingen in dataset</h3>"
   ]
  },
  {
   "cell_type": "code",
   "execution_count": 14,
   "metadata": {},
   "outputs": [
    {
     "name": "stdout",
     "output_type": "stream",
     "text": [
      "Aantal rows waarin een 3 punter een te korte afstand heeft: 872\n"
     ]
    }
   ],
   "source": [
    "# PTS_TYPE = 3 en SHOT_DIST < 22, 22 feet is de kortste afstand in nba voor een 3 punter, toch zijn er instanties waar\n",
    "# een speler 3 punten scoort en toch SHOT_DIST < 22 heeft.\n",
    "aantal_foute_3punters = len(df[(df['SHOT_DIST'] < 22) & (df['PTS_TYPE'] == 3)])\n",
    "print(\"Aantal rows waarin een 3 punter een te korte afstand heeft: \" + str(aantal_foute_3punters))"
   ]
  },
  {
   "cell_type": "code",
   "execution_count": 15,
   "metadata": {},
   "outputs": [
    {
     "data": {
      "text/html": [
       "<div>\n",
       "<style>\n",
       "    .dataframe thead tr:only-child th {\n",
       "        text-align: right;\n",
       "    }\n",
       "\n",
       "    .dataframe thead th {\n",
       "        text-align: left;\n",
       "    }\n",
       "\n",
       "    .dataframe tbody tr th {\n",
       "        vertical-align: top;\n",
       "    }\n",
       "</style>\n",
       "<table border=\"1\" class=\"dataframe\">\n",
       "  <thead>\n",
       "    <tr style=\"text-align: right;\">\n",
       "      <th></th>\n",
       "      <th>GAME_ID</th>\n",
       "      <th>MATCHUP</th>\n",
       "      <th>LOCATION</th>\n",
       "      <th>W</th>\n",
       "      <th>FINAL_MARGIN</th>\n",
       "      <th>SHOT_NUMBER</th>\n",
       "      <th>PERIOD</th>\n",
       "      <th>GAME_CLOCK</th>\n",
       "      <th>SHOT_CLOCK</th>\n",
       "      <th>DRIBBLES</th>\n",
       "      <th>TOUCH_TIME</th>\n",
       "      <th>SHOT_DIST</th>\n",
       "      <th>PTS_TYPE</th>\n",
       "      <th>SHOT_RESULT</th>\n",
       "      <th>CLOSEST_DEFENDER</th>\n",
       "      <th>CLOSEST_DEFENDER_PLAYER_ID</th>\n",
       "      <th>CLOSE_DEF_DIST</th>\n",
       "      <th>FGM</th>\n",
       "      <th>PTS</th>\n",
       "      <th>PLAYER_NAME</th>\n",
       "      <th>PLAYER_ID</th>\n",
       "    </tr>\n",
       "  </thead>\n",
       "  <tbody>\n",
       "    <tr>\n",
       "      <th>15593</th>\n",
       "      <td>21400382</td>\n",
       "      <td>DEC 18, 2014 - GSW vs. OKC</td>\n",
       "      <td>H</td>\n",
       "      <td>W</td>\n",
       "      <td>5</td>\n",
       "      <td>6</td>\n",
       "      <td>2</td>\n",
       "      <td>3:28</td>\n",
       "      <td>21.4</td>\n",
       "      <td>0</td>\n",
       "      <td>1.2</td>\n",
       "      <td>20.9</td>\n",
       "      <td>3</td>\n",
       "      <td>made</td>\n",
       "      <td>Jones, Perry</td>\n",
       "      <td>203103</td>\n",
       "      <td>5.4</td>\n",
       "      <td>1</td>\n",
       "      <td>3</td>\n",
       "      <td>klay thompson</td>\n",
       "      <td>202691</td>\n",
       "    </tr>\n",
       "  </tbody>\n",
       "</table>\n",
       "</div>"
      ],
      "text/plain": [
       "        GAME_ID                     MATCHUP LOCATION  W  FINAL_MARGIN  \\\n",
       "15593  21400382  DEC 18, 2014 - GSW vs. OKC        H  W             5   \n",
       "\n",
       "       SHOT_NUMBER  PERIOD GAME_CLOCK  SHOT_CLOCK  DRIBBLES  TOUCH_TIME  \\\n",
       "15593            6       2       3:28        21.4         0         1.2   \n",
       "\n",
       "       SHOT_DIST  PTS_TYPE SHOT_RESULT CLOSEST_DEFENDER  \\\n",
       "15593       20.9         3        made     Jones, Perry   \n",
       "\n",
       "       CLOSEST_DEFENDER_PLAYER_ID  CLOSE_DEF_DIST  FGM  PTS    PLAYER_NAME  \\\n",
       "15593                      203103             5.4    1    3  klay thompson   \n",
       "\n",
       "       PLAYER_ID  \n",
       "15593     202691  "
      ]
     },
     "execution_count": 15,
     "metadata": {},
     "output_type": "execute_result"
    }
   ],
   "source": [
    "# https://youtu.be/InDis_QY2X4?t=186 Link naar de game waarbij klay de 3 punter shot\n",
    "df[(df['GAME_ID'] == 21400382) & (df['SHOT_DIST'] < 22) & (df['PTS_TYPE'] == 3)]"
   ]
  },
  {
   "cell_type": "code",
   "execution_count": 16,
   "metadata": {
    "collapsed": true
   },
   "outputs": [],
   "source": [
    "df.loc[(df['SHOT_DIST'] < 22) & (df['PTS_TYPE'] == 3), 'SHOT_DIST'] = 9999"
   ]
  },
  {
   "cell_type": "code",
   "execution_count": 17,
   "metadata": {},
   "outputs": [
    {
     "name": "stdout",
     "output_type": "stream",
     "text": [
      "Aantal negatieve touch value: 312\n",
      "Aantal procent negatieve touch value: 0.2 %\n"
     ]
    }
   ],
   "source": [
    "# Touch time is in sommige gevallen negatief\n",
    "touch_neg = len (df[df['TOUCH_TIME']<0])\n",
    "print (\"Aantal negatieve touch value: \" + str(touch_neg))\n",
    "print (\"Aantal procent negatieve touch value: \" + str(round(len (df[df['TOUCH_TIME']<0])/float(len (df)),3)*100),'%')"
   ]
  },
  {
   "cell_type": "code",
   "execution_count": 18,
   "metadata": {
    "collapsed": true
   },
   "outputs": [],
   "source": [
    "# MATCHUP kolom bevat veel data dat eigenlijk kan opgesplitst worden (datum / thuisteam / uitteam)\n",
    "def datum_split(x):\n",
    "    \n",
    "    (a,b)=x.split('-')\n",
    "    a=a.strip()\n",
    "    \n",
    "    return a\n",
    "    \n",
    "def thuis_team_split (x):\n",
    "\n",
    "    (a,b)=x.split('-')\n",
    "    \n",
    "    if '@' in b:\n",
    "        (b1,b2)=b.split('@')\n",
    "    if 'vs.' in b:\n",
    "        (b1,b2)=b.split('vs.')\n",
    "        \n",
    "    b1=b1.strip()\n",
    "    return b1\n",
    "    \n",
    "def uit_team_split (x):\n",
    "    \n",
    "    (a,b)=x.split('-')\n",
    "    \n",
    "    if '@' in b:\n",
    "        (b1,b2)=b.split('@')\n",
    "    if 'vs.' in b:\n",
    "        (b1,b2)=b.split('vs.')\n",
    "\n",
    "    b2=b2.strip()\n",
    "    return b2"
   ]
  },
  {
   "cell_type": "code",
   "execution_count": 19,
   "metadata": {},
   "outputs": [
    {
     "data": {
      "text/html": [
       "<div>\n",
       "<style>\n",
       "    .dataframe thead tr:only-child th {\n",
       "        text-align: right;\n",
       "    }\n",
       "\n",
       "    .dataframe thead th {\n",
       "        text-align: left;\n",
       "    }\n",
       "\n",
       "    .dataframe tbody tr th {\n",
       "        vertical-align: top;\n",
       "    }\n",
       "</style>\n",
       "<table border=\"1\" class=\"dataframe\">\n",
       "  <thead>\n",
       "    <tr style=\"text-align: right;\">\n",
       "      <th></th>\n",
       "      <th>GAME_ID</th>\n",
       "      <th>MATCHUP</th>\n",
       "      <th>LOCATION</th>\n",
       "      <th>W</th>\n",
       "      <th>FINAL_MARGIN</th>\n",
       "      <th>SHOT_NUMBER</th>\n",
       "      <th>PERIOD</th>\n",
       "      <th>GAME_CLOCK</th>\n",
       "      <th>SHOT_CLOCK</th>\n",
       "      <th>DRIBBLES</th>\n",
       "      <th>TOUCH_TIME</th>\n",
       "      <th>SHOT_DIST</th>\n",
       "      <th>PTS_TYPE</th>\n",
       "      <th>SHOT_RESULT</th>\n",
       "      <th>CLOSEST_DEFENDER</th>\n",
       "      <th>CLOSEST_DEFENDER_PLAYER_ID</th>\n",
       "      <th>CLOSE_DEF_DIST</th>\n",
       "      <th>FGM</th>\n",
       "      <th>PTS</th>\n",
       "      <th>PLAYER_NAME</th>\n",
       "      <th>PLAYER_ID</th>\n",
       "      <th>DATUM</th>\n",
       "      <th>THUIS_TEAM</th>\n",
       "      <th>UIT_TEAM</th>\n",
       "    </tr>\n",
       "  </thead>\n",
       "  <tbody>\n",
       "    <tr>\n",
       "      <th>0</th>\n",
       "      <td>21400899</td>\n",
       "      <td>MAR 04, 2015 - CHA @ BKN</td>\n",
       "      <td>A</td>\n",
       "      <td>W</td>\n",
       "      <td>24</td>\n",
       "      <td>1</td>\n",
       "      <td>1</td>\n",
       "      <td>1:09</td>\n",
       "      <td>10.8</td>\n",
       "      <td>2</td>\n",
       "      <td>1.9</td>\n",
       "      <td>7.7</td>\n",
       "      <td>2</td>\n",
       "      <td>made</td>\n",
       "      <td>Anderson, Alan</td>\n",
       "      <td>101187</td>\n",
       "      <td>1.3</td>\n",
       "      <td>1</td>\n",
       "      <td>2</td>\n",
       "      <td>brian roberts</td>\n",
       "      <td>203148</td>\n",
       "      <td>2015-03-04</td>\n",
       "      <td>CHA</td>\n",
       "      <td>BKN</td>\n",
       "    </tr>\n",
       "    <tr>\n",
       "      <th>1</th>\n",
       "      <td>21400899</td>\n",
       "      <td>MAR 04, 2015 - CHA @ BKN</td>\n",
       "      <td>A</td>\n",
       "      <td>W</td>\n",
       "      <td>24</td>\n",
       "      <td>2</td>\n",
       "      <td>1</td>\n",
       "      <td>0:14</td>\n",
       "      <td>3.4</td>\n",
       "      <td>0</td>\n",
       "      <td>0.8</td>\n",
       "      <td>28.2</td>\n",
       "      <td>3</td>\n",
       "      <td>missed</td>\n",
       "      <td>Bogdanovic, Bojan</td>\n",
       "      <td>202711</td>\n",
       "      <td>6.1</td>\n",
       "      <td>0</td>\n",
       "      <td>0</td>\n",
       "      <td>brian roberts</td>\n",
       "      <td>203148</td>\n",
       "      <td>2015-03-04</td>\n",
       "      <td>CHA</td>\n",
       "      <td>BKN</td>\n",
       "    </tr>\n",
       "    <tr>\n",
       "      <th>2</th>\n",
       "      <td>21400899</td>\n",
       "      <td>MAR 04, 2015 - CHA @ BKN</td>\n",
       "      <td>A</td>\n",
       "      <td>W</td>\n",
       "      <td>24</td>\n",
       "      <td>3</td>\n",
       "      <td>1</td>\n",
       "      <td>0:00</td>\n",
       "      <td>NaN</td>\n",
       "      <td>3</td>\n",
       "      <td>2.7</td>\n",
       "      <td>10.1</td>\n",
       "      <td>2</td>\n",
       "      <td>missed</td>\n",
       "      <td>Bogdanovic, Bojan</td>\n",
       "      <td>202711</td>\n",
       "      <td>0.9</td>\n",
       "      <td>0</td>\n",
       "      <td>0</td>\n",
       "      <td>brian roberts</td>\n",
       "      <td>203148</td>\n",
       "      <td>2015-03-04</td>\n",
       "      <td>CHA</td>\n",
       "      <td>BKN</td>\n",
       "    </tr>\n",
       "    <tr>\n",
       "      <th>3</th>\n",
       "      <td>21400899</td>\n",
       "      <td>MAR 04, 2015 - CHA @ BKN</td>\n",
       "      <td>A</td>\n",
       "      <td>W</td>\n",
       "      <td>24</td>\n",
       "      <td>4</td>\n",
       "      <td>2</td>\n",
       "      <td>11:47</td>\n",
       "      <td>10.3</td>\n",
       "      <td>2</td>\n",
       "      <td>1.9</td>\n",
       "      <td>17.2</td>\n",
       "      <td>2</td>\n",
       "      <td>missed</td>\n",
       "      <td>Brown, Markel</td>\n",
       "      <td>203900</td>\n",
       "      <td>3.4</td>\n",
       "      <td>0</td>\n",
       "      <td>0</td>\n",
       "      <td>brian roberts</td>\n",
       "      <td>203148</td>\n",
       "      <td>2015-03-04</td>\n",
       "      <td>CHA</td>\n",
       "      <td>BKN</td>\n",
       "    </tr>\n",
       "    <tr>\n",
       "      <th>4</th>\n",
       "      <td>21400899</td>\n",
       "      <td>MAR 04, 2015 - CHA @ BKN</td>\n",
       "      <td>A</td>\n",
       "      <td>W</td>\n",
       "      <td>24</td>\n",
       "      <td>5</td>\n",
       "      <td>2</td>\n",
       "      <td>10:34</td>\n",
       "      <td>10.9</td>\n",
       "      <td>2</td>\n",
       "      <td>2.7</td>\n",
       "      <td>3.7</td>\n",
       "      <td>2</td>\n",
       "      <td>missed</td>\n",
       "      <td>Young, Thaddeus</td>\n",
       "      <td>201152</td>\n",
       "      <td>1.1</td>\n",
       "      <td>0</td>\n",
       "      <td>0</td>\n",
       "      <td>brian roberts</td>\n",
       "      <td>203148</td>\n",
       "      <td>2015-03-04</td>\n",
       "      <td>CHA</td>\n",
       "      <td>BKN</td>\n",
       "    </tr>\n",
       "  </tbody>\n",
       "</table>\n",
       "</div>"
      ],
      "text/plain": [
       "    GAME_ID                   MATCHUP LOCATION  W  FINAL_MARGIN  SHOT_NUMBER  \\\n",
       "0  21400899  MAR 04, 2015 - CHA @ BKN        A  W            24            1   \n",
       "1  21400899  MAR 04, 2015 - CHA @ BKN        A  W            24            2   \n",
       "2  21400899  MAR 04, 2015 - CHA @ BKN        A  W            24            3   \n",
       "3  21400899  MAR 04, 2015 - CHA @ BKN        A  W            24            4   \n",
       "4  21400899  MAR 04, 2015 - CHA @ BKN        A  W            24            5   \n",
       "\n",
       "   PERIOD GAME_CLOCK  SHOT_CLOCK  DRIBBLES  TOUCH_TIME  SHOT_DIST  PTS_TYPE  \\\n",
       "0       1       1:09        10.8         2         1.9        7.7         2   \n",
       "1       1       0:14         3.4         0         0.8       28.2         3   \n",
       "2       1       0:00         NaN         3         2.7       10.1         2   \n",
       "3       2      11:47        10.3         2         1.9       17.2         2   \n",
       "4       2      10:34        10.9         2         2.7        3.7         2   \n",
       "\n",
       "  SHOT_RESULT   CLOSEST_DEFENDER  CLOSEST_DEFENDER_PLAYER_ID  CLOSE_DEF_DIST  \\\n",
       "0        made     Anderson, Alan                      101187             1.3   \n",
       "1      missed  Bogdanovic, Bojan                      202711             6.1   \n",
       "2      missed  Bogdanovic, Bojan                      202711             0.9   \n",
       "3      missed      Brown, Markel                      203900             3.4   \n",
       "4      missed    Young, Thaddeus                      201152             1.1   \n",
       "\n",
       "   FGM  PTS    PLAYER_NAME  PLAYER_ID      DATUM THUIS_TEAM UIT_TEAM  \n",
       "0    1    2  brian roberts     203148 2015-03-04        CHA      BKN  \n",
       "1    0    0  brian roberts     203148 2015-03-04        CHA      BKN  \n",
       "2    0    0  brian roberts     203148 2015-03-04        CHA      BKN  \n",
       "3    0    0  brian roberts     203148 2015-03-04        CHA      BKN  \n",
       "4    0    0  brian roberts     203148 2015-03-04        CHA      BKN  "
      ]
     },
     "execution_count": 19,
     "metadata": {},
     "output_type": "execute_result"
    }
   ],
   "source": [
    "df['DATUM']=df['MATCHUP'].apply(datum_split)\n",
    "df['DATUM']=df['DATUM'].apply(pd.to_datetime)\n",
    "df['THUIS_TEAM']=df['MATCHUP'].apply(thuis_team_split)\n",
    "df['UIT_TEAM']=df['MATCHUP'].apply(uit_team_split)\n",
    "df.head()"
   ]
  },
  {
   "cell_type": "markdown",
   "metadata": {},
   "source": [
    "<h1>Analyse vd dataset adhv graphs</h1>"
   ]
  },
  {
   "cell_type": "code",
   "execution_count": 20,
   "metadata": {},
   "outputs": [
    {
     "name": "stdout",
     "output_type": "stream",
     "text": [
      "{'made_away': 256, 'missed_away': 271, 'made_home': 214, 'missed_home': 227}\n"
     ]
    }
   ],
   "source": [
    "# HOME/AWAY INVLOED OP SHOT ??\n",
    "# BEST/WORST CLUTCH TEAMS/SHOOTERS?\n",
    "# SPOT UP SHOOTER VS NON SPOT UP SHOOTER\n",
    "\n",
    "# Array van alle spelers (uniek)\n",
    "all_players = sorted(pd.unique(df[['PLAYER_NAME']].values.ravel()))\n",
    "# Functie die een playernaam ontvangt en hiervoor de percentage gemiste/gemaakte worpen in thuis/uit wedstrijden teruggeeft\n",
    "def home_away_specific_player(playername):\n",
    "    df3 = df[(df['PLAYER_NAME'] == str(playername))]\n",
    "    obj = df3.groupby(['LOCATION', 'SHOT_RESULT']).size()\n",
    "    \n",
    "    dict = {\n",
    "            'made_away': obj[0],\n",
    "            'missed_away': obj[1],\n",
    "            'made_home': obj[2],\n",
    "            'missed_home': obj[3]\n",
    "           }\n",
    "\n",
    "    return dict\n",
    "\n",
    "dict = home_away_specific_player(\"stephen curry\")\n",
    "print(dict)\n",
    "    "
   ]
  },
  {
   "cell_type": "code",
   "execution_count": 21,
   "metadata": {
    "collapsed": true
   },
   "outputs": [],
   "source": [
    "# Maakt automatisch percentage van de value doorgegeven (nodig om value EN percent te tonen in pie chart)\n",
    "def make_autopct(values):\n",
    "    def my_autopct(pct):\n",
    "        total = sum(values)\n",
    "        val = int(round(pct*total/100.0))\n",
    "        return '{p:.2f}%  ({v:d})'.format(p=pct,v=val)\n",
    "    return my_autopct\n",
    "\n",
    "# Functie die de pie charts opstelt, roept ook de home_away_specific player functie aan om deze door te geven aan de pie chart\n",
    "def make_pie(playername):\n",
    "    dict = home_away_specific_player(playername)\n",
    "    labels = 'Gescoord', 'Gemist'\n",
    "    values_home = [dict['made_home'],dict['missed_home']]\n",
    "    values_away = [dict['made_away'], dict['missed_away']]\n",
    "    \n",
    "    # Om de pie charts naast een te krijgen + op figure t zetten\n",
    "    fig1, (ax1, ax2) = plt.subplots(1, 2, sharey=True)\n",
    "    \n",
    "    # De 2 pies\n",
    "    ax1.pie(values_home, labels=labels, autopct=make_autopct(values_home), shadow=True, startangle=90)\n",
    "    ax1.axis('equal')  # Equal aspect ratio ensures that pie is drawn as a circle.\n",
    "    ax2.pie(values_away, labels=labels, autopct=make_autopct(values_away), shadow=True, startangle=90)\n",
    "    ax2.axis('equal')  # Equal aspect ratio ensures that pie is drawn as a circle.\n",
    "\n",
    "    # Titels van pies\n",
    "    ax1.set_title('Thuis shot %')\n",
    "    ax2.set_title('Uit shot %')\n",
    "    \n",
    "    # Pies niet laten overlappen (waarden zo laten staan, anders veel geknoei)\n",
    "    plt.subplots_adjust(top=0.92, bottom=0.08, left=0, right=1.3, hspace=0.5,\n",
    "                    wspace=15)\n",
    "    \n",
    "    # Pies groter maken\n",
    "    fig = plt.gcf()\n",
    "    fig.set_size_inches(6,6)\n",
    "    \n",
    "    # Show de plots\n",
    "    plt.show()\n",
    "    \n",
    "    "
   ]
  },
  {
   "cell_type": "code",
   "execution_count": 22,
   "metadata": {
    "scrolled": true
   },
   "outputs": [
    {
     "data": {
      "application/vnd.jupyter.widget-view+json": {
       "model_id": "f813f3dd452e4a1a8ff6dbc8e0b0a301"
      }
     },
     "metadata": {},
     "output_type": "display_data"
    },
    {
     "data": {
      "text/plain": [
       "<function __main__.make_pie>"
      ]
     },
     "execution_count": 22,
     "metadata": {},
     "output_type": "execute_result"
    }
   ],
   "source": [
    "interact(make_pie,playername = all_players)"
   ]
  },
  {
   "cell_type": "code",
   "execution_count": 23,
   "metadata": {},
   "outputs": [
    {
     "data": {
      "image/png": "[encoded data removed]",
      "text/plain": [
       "<matplotlib.figure.Figure at 0x251ee4f1cc0>"
      ]
     },
     "metadata": {},
     "output_type": "display_data"
    }
   ],
   "source": [
    "counter_home = 0\n",
    "counter_away = 0\n",
    "counter_even = 0\n",
    "\n",
    "for player in all_players:\n",
    "    dict = home_away_specific_player(player)\n",
    "    if dict['made_home'] > dict['made_away']:\n",
    "        counter_home += 1\n",
    "    elif dict['made_home'] < dict['made_away']:\n",
    "        counter_away += 1\n",
    "    else: \n",
    "        counter_even += 1\n",
    "\n",
    "        \n",
    "fig, ax = plt.subplots()\n",
    "labels = 'thuis FG% > uit FG%', 'thuis FG% < uit FG%', 'thuis FG% = uit FG%'\n",
    "y_pos = np.arange(len(labels))\n",
    "performance = [counter_home, counter_away, counter_even]\n",
    "\n",
    "ax.barh(y_pos, performance, align='center')\n",
    "ax.set_yticks(y_pos)\n",
    "ax.set_yticklabels(labels)\n",
    "ax.invert_yaxis()  # labels read top-to-bottom\n",
    "ax.set_xlabel('Aantal spelers')\n",
    "ax.set_title('thuisvoordeel voor shots')\n",
    "\n",
    "plt.show()"
   ]
  },
  {
   "cell_type": "code",
   "execution_count": null,
   "metadata": {
    "collapsed": true
   },
   "outputs": [],
   "source": []
  },
  {
   "cell_type": "code",
   "execution_count": null,
   "metadata": {
    "collapsed": true
   },
   "outputs": [],
   "source": []
  },
  {
   "cell_type": "code",
   "execution_count": null,
   "metadata": {
    "collapsed": true
   },
   "outputs": [],
   "source": []
  }
 ],
 "metadata": {
  "kernelspec": {
   "display_name": "Python 3",
   "language": "python",
   "name": "python3"
  },
  "language_info": {
   "codemirror_mode": {
    "name": "ipython",
    "version": 3
   },
   "file_extension": ".py",
   "mimetype": "text/x-python",
   "name": "python",
   "nbconvert_exporter": "python",
   "pygments_lexer": "ipython3",
   "version": "3.6.1"
  }
 },
 "nbformat": 4,
 "nbformat_minor": 2
}
