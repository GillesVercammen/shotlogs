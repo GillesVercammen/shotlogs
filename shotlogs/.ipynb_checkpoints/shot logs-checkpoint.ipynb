{
 "cells": [
  {
   "cell_type": "code",
   "execution_count": null,
   "metadata": {
    "collapsed": true
   },
   "outputs": [],
   "source": [
    "import os\n",
    "\n",
    "mingw_path = 'C:\\\\Program Files\\\\mingw-w64\\\\x86_64-7.2.0-posix-seh-rt_v5-rev0\\\\mingw64\\\\bin'\n",
    "\n",
    "os.environ['PATH'] = mingw_path + ';' + os.environ['PATH']"
   ]
  },
  {
   "cell_type": "code",
   "execution_count": 1632,
   "metadata": {},
   "outputs": [
    {
     "ename": "ModuleNotFoundError",
     "evalue": "No module named 'xgboost'",
     "output_type": "error",
     "traceback": [
      "\u001b[1;31m---------------------------------------------------------------------------\u001b[0m",
      "\u001b[1;31mModuleNotFoundError\u001b[0m                       Traceback (most recent call last)",
      "\u001b[1;32m<ipython-input-1632-b028605790bc>\u001b[0m in \u001b[0;36m<module>\u001b[1;34m()\u001b[0m\n\u001b[0;32m      4\u001b[0m \u001b[1;32mfrom\u001b[0m \u001b[0mipywidgets\u001b[0m \u001b[1;32mimport\u001b[0m \u001b[0minteract\u001b[0m\u001b[1;33m,\u001b[0m \u001b[0minteractive\u001b[0m\u001b[1;33m,\u001b[0m \u001b[0mfixed\u001b[0m\u001b[1;33m,\u001b[0m \u001b[0minteract_manual\u001b[0m\u001b[1;33m\u001b[0m\u001b[0m\n\u001b[0;32m      5\u001b[0m \u001b[1;32mfrom\u001b[0m \u001b[0msklearn\u001b[0m\u001b[1;33m.\u001b[0m\u001b[0mensemble\u001b[0m \u001b[1;32mimport\u001b[0m \u001b[0mRandomForestClassifier\u001b[0m \u001b[1;32mas\u001b[0m \u001b[0mRFC\u001b[0m\u001b[1;33m\u001b[0m\u001b[0m\n\u001b[1;32m----> 6\u001b[1;33m \u001b[1;32mfrom\u001b[0m \u001b[0mxgboost\u001b[0m \u001b[1;32mimport\u001b[0m \u001b[0mXGBClassifier\u001b[0m\u001b[1;33m\u001b[0m\u001b[0m\n\u001b[0m\u001b[0;32m      7\u001b[0m \u001b[1;32mfrom\u001b[0m \u001b[0mxgboost\u001b[0m \u001b[1;32mimport\u001b[0m \u001b[0mplot_importance\u001b[0m\u001b[1;33m\u001b[0m\u001b[0m\n\u001b[0;32m      8\u001b[0m \u001b[1;32mfrom\u001b[0m \u001b[0mxgboost\u001b[0m \u001b[1;32mimport\u001b[0m \u001b[0mplot_tree\u001b[0m\u001b[1;33m\u001b[0m\u001b[0m\n",
      "\u001b[1;31mModuleNotFoundError\u001b[0m: No module named 'xgboost'"
     ]
    }
   ],
   "source": [
    "import pandas as pd\n",
    "import numpy as np\n",
    "import matplotlib.pyplot as plt\n",
    "from ipywidgets import interact, interactive, fixed, interact_manual\n",
    "from sklearn.ensemble import RandomForestClassifier as RFC\n",
    "from xgboost import XGBClassifier\n",
    "from xgboost import plot_importance\n",
    "from xgboost import plot_tree\n",
    "from sklearn.model_selection import train_test_split\n",
    "from sklearn.metrics import accuracy_score\n",
    "import ipywidgets as widgets\n",
    "plt.style.use('fivethirtyeight')\n",
    "pd.options.display.max_columns = 30"
   ]
  },
  {
   "cell_type": "markdown",
   "metadata": {},
   "source": [
    "<h1>Pandas performance optimaliseren</h1>"
   ]
  },
  {
   "cell_type": "code",
   "execution_count": null,
   "metadata": {
    "collapsed": true,
    "scrolled": true
   },
   "outputs": [],
   "source": [
    "# Csv file inlezen in een python dataframe\n",
    "df = pd.read_csv('data/shot_logs.csv')\n",
    "df20 = df.copy()\n"
   ]
  },
  {
   "cell_type": "markdown",
   "metadata": {},
   "source": [
    "<h3>Gewone loops in pandas</h3>"
   ]
  },
  {
   "cell_type": "code",
   "execution_count": null,
   "metadata": {
    "collapsed": true
   },
   "outputs": [],
   "source": [
    "# functie die gewoon doe alle rows afgaat en de waarde in een nieuwe lijst steekt\n",
    "def manuele_loop(df):\n",
    "    test_list = []\n",
    "    for i in range(0, len(df)):\n",
    "        d = df.iloc[i]['SHOT_CLOCK']\n",
    "        test_list.append(d)\n",
    "    return test_list"
   ]
  },
  {
   "cell_type": "code",
   "execution_count": null,
   "metadata": {
    "collapsed": true
   },
   "outputs": [],
   "source": [
    "\n",
    "# Maneuele loop functie runnen en timen\n",
    "result_gewoon = %timeit -o df['testkolom'] = manuele_loop(df)\n"
   ]
  },
  {
   "cell_type": "markdown",
   "metadata": {},
   "source": [
    "<h3>Loopen met iterrows()</h3>"
   ]
  },
  {
   "cell_type": "code",
   "execution_count": null,
   "metadata": {
    "collapsed": true
   },
   "outputs": [],
   "source": [
    "result_iterrows = %timeit -o test_list = [df['SHOT_CLOCK'] for index, row in df.iterrows()]"
   ]
  },
  {
   "cell_type": "markdown",
   "metadata": {},
   "source": [
    "<h3>Loopen met de apply() methode</h3>"
   ]
  },
  {
   "cell_type": "code",
   "execution_count": null,
   "metadata": {
    "collapsed": true
   },
   "outputs": [],
   "source": [
    "result_apply = %timeit -o df['testkolom'] = df.apply(lambda row: df['SHOT_CLOCK'])"
   ]
  },
  {
   "cell_type": "markdown",
   "metadata": {},
   "source": [
    "<h3>Vectoriseren over pandas series (executie over een volledige array)</h3>"
   ]
  },
  {
   "cell_type": "code",
   "execution_count": null,
   "metadata": {
    "collapsed": true
   },
   "outputs": [],
   "source": [
    "result_vector = %timeit -o df['testkolom'] = df['SHOT_CLOCK']"
   ]
  },
  {
   "cell_type": "code",
   "execution_count": null,
   "metadata": {
    "collapsed": true
   },
   "outputs": [],
   "source": [
    "result_gewoon2 = round(result_gewoon.best * 100,4)\n",
    "result_iterrows2 = round(result_iterrows.best * 100,4)\n",
    "result_apply2 = round(result_apply.best * 100,4)\n",
    "result_vector2 = round(result_vector.best * 100,4)\n",
    "sales = [(\"TYPE VAN LOOP\", [\"Manuele loop\", \"iterrows loop\", \"apply loops\", \"Vectoriseren\"]),\n",
    "         (\"UITVOERSNELHEID\", [result_gewoon2, result_iterrows2, result_apply2, result_vector2]),\n",
    "         (\"IMPROVEMENT\", [\" \", \"x\" + str(round(result_gewoon2 / result_iterrows2)),\"x\" + str(round(result_iterrows2 / result_apply2)),\"x\" + str(round(result_apply2 / result_vector2))])\n",
    "         ]\n",
    "df2 = pd.DataFrame.from_items(sales)\n",
    "df2"
   ]
  },
  {
   "cell_type": "markdown",
   "metadata": {},
   "source": [
    "<h1>De dataset opkuisen</h1>"
   ]
  },
  {
   "cell_type": "code",
   "execution_count": null,
   "metadata": {
    "collapsed": true
   },
   "outputs": [],
   "source": [
    "# headers van df.columns\n",
    "#'GAME_ID', 'MATCHUP', 'LOCATION', 'W', 'FINAL_MARGIN', 'SHOT_NUMBER',\n",
    "#'PERIOD', 'GAME_CLOCK', 'SHOT_CLOCK', 'DRIBBLES', 'TOUCH_TIME',\n",
    "#'SHOT_DIST', 'PTS_TYPE', 'SHOT_RESULT', 'CLOSEST_DEFENDER',\n",
    "#'CLOSEST_DEFENDER_PLAYER_ID', 'CLOSE_DEF_DIST', 'FGM', 'PTS',\n",
    "#'player_name', 'player_id'\n",
    "df = pd.read_csv('data/shot_logs.csv')\n",
    "df.columns = map(str.upper, df.columns)\n",
    "df.describe()\n"
   ]
  },
  {
   "cell_type": "markdown",
   "metadata": {},
   "source": [
    "<h3>Null values in dataset</h3>"
   ]
  },
  {
   "cell_type": "code",
   "execution_count": null,
   "metadata": {
    "collapsed": true
   },
   "outputs": [],
   "source": [
    "# Check welke kolommen null values bevatten\n",
    "df.isnull().sum()"
   ]
  },
  {
   "cell_type": "code",
   "execution_count": null,
   "metadata": {
    "collapsed": true
   },
   "outputs": [],
   "source": [
    "# Totaal aantal rijen waar SHOT_CLICK = NaN en hoeveel % vd dataset\n",
    "shotclock_nan = len (df[df['SHOT_CLOCK'].isnull()])\n",
    "print(\"totaal aantal rijen in SHOT_CLOCK met NaN: \" + str(shotclock_nan))\n",
    "print (\"Aaantal % van de SHOT_CLOCK kolom NaN: \" + str(round(float(len (df[df.SHOT_CLOCK.isnull()==True]))/float(len (df)),2)*100),'%')"
   ]
  },
  {
   "cell_type": "code",
   "execution_count": null,
   "metadata": {
    "collapsed": true
   },
   "outputs": [],
   "source": [
    "# Theorie shotclock = NaN?\n",
    "# In basketbal wanneer game clock < 24 seconden, wordt de shotclock afgezet, dit zou dus kunnen leiden tot deze values.\n",
    "# Om na te gaan of dit werkelijk de oorzaak is gaan we 3 tests doen:\n",
    "#      1. Kijken of er degelijk NaN waarden zijn als game clock < 24 seconden\n",
    "#      2. Kijken of er nog altijd NaN waarden zijn als game clock > 24 seconden\n",
    "#      3. Kijken of er instanties bestaan waarbij de shotclock valid time heeft en game clock < 24\n",
    "\n",
    "nan_under_24 = len(df[(df['GAME_CLOCK'] <= '0:24') & (df['SHOT_CLOCK'].isnull())])\n",
    "nan_over_24 = len(df[(df['GAME_CLOCK'] > '0:24') & (df['SHOT_CLOCK'].isnull())])\n",
    "valid_under_24 = len(df[(df['GAME_CLOCK'] <= '0:24') & (~df['SHOT_CLOCK'].isnull())])\n",
    "\n",
    "print(\"Aantal NaN als game clock <= 24 seconden: \" + str(nan_under_24))\n",
    "print(\"Aantal NaN als game clock > 24 seconden: \" + str(nan_over_24))\n",
    "print(\"Aantal instanties waar shotclock  is valid time en game clock < 24: \" + str(valid_under_24))\n",
    "\n",
    "# Conclusie: Er is geen logische verklaring voor shotclock = NaN.\n",
    "# Aangezien bij game clock < 24, de shot clock zowel NaN kan zijn, als een valid time."
   ]
  },
  {
   "cell_type": "code",
   "execution_count": null,
   "metadata": {
    "collapsed": true
   },
   "outputs": [],
   "source": [
    "# Rows verwijderen waar shot clock = NaN\n",
    "nan=float('nan')\n",
    "df=df[~np.isnan(df['SHOT_CLOCK'])]"
   ]
  },
  {
   "cell_type": "markdown",
   "metadata": {},
   "source": [
    "<h3>Fouten & aanpassingen in dataset</h3>"
   ]
  },
  {
   "cell_type": "code",
   "execution_count": null,
   "metadata": {
    "collapsed": true
   },
   "outputs": [],
   "source": [
    "# PTS_TYPE = 3 en SHOT_DIST < 22, 22 feet is de kortste afstand in nba voor een 3 punter, toch zijn er instanties waar\n",
    "# een speler 3 punten scoort en toch SHOT_DIST < 22 heeft.\n",
    "aantal_foute_3punters = len(df[(df['SHOT_DIST'] < 22) & (df['PTS_TYPE'] == 3)])\n",
    "print(\"Aantal rows waarin een 3 punter een te korte afstand heeft: \" + str(aantal_foute_3punters))\n",
    "print (\"Aantal procent negatieve touch value: \" + str(round(aantal_foute_3punters/float(len (df)),2)*100),'%')"
   ]
  },
  {
   "cell_type": "code",
   "execution_count": null,
   "metadata": {
    "collapsed": true
   },
   "outputs": [],
   "source": [
    "# https://youtu.be/InDis_QY2X4?t=186 Link naar de game waarbij klay de 3 punter shot\n",
    "df[(df['GAME_ID'] == 21400382) & (df['SHOT_DIST'] < 22) & (df['PTS_TYPE'] == 3)]"
   ]
  },
  {
   "cell_type": "code",
   "execution_count": null,
   "metadata": {
    "collapsed": true
   },
   "outputs": [],
   "source": [
    "# Overal waar shot distance < 22 feet maar toch een 3 punter is, gaan we shot_dist op 9999 zetten\n",
    "df.loc[(df['SHOT_DIST'] < 22) & (df['PTS_TYPE'] == 3), 'SHOT_DIST'] = 22.0"
   ]
  },
  {
   "cell_type": "code",
   "execution_count": null,
   "metadata": {
    "collapsed": true
   },
   "outputs": [],
   "source": [
    "# Touch time is in sommige gevallen negatief\n",
    "touch_neg = len (df[df['TOUCH_TIME']<0])\n",
    "print (\"Aantal negatieve touch value: \" + str(touch_neg))\n",
    "print (\"Aantal procent negatieve touch value: \" + str(round(len (df[df['TOUCH_TIME']<0])/float(len (df)),3)*100),'%')"
   ]
  },
  {
   "cell_type": "code",
   "execution_count": null,
   "metadata": {
    "collapsed": true
   },
   "outputs": [],
   "source": [
    "#Enkel de rows overhouden waar touchtime > 0\n",
    "df=df[df['TOUCH_TIME']>0]"
   ]
  },
  {
   "cell_type": "code",
   "execution_count": null,
   "metadata": {
    "collapsed": true
   },
   "outputs": [],
   "source": [
    "# MATCHUP kolom bevat veel data dat eigenlijk kan opgesplitst worden (datum / thuisteam / uitteam)\n",
    "\n",
    "# splits datum voor datum kolom\n",
    "def datum_split(rows):\n",
    "    \n",
    "    (date,teams)=rows.split('-')\n",
    "    date=date.strip()\n",
    "    \n",
    "    return date\n",
    "\n",
    "# splits thuis team adhv @ of vs voor thuis team kolom\n",
    "def thuis_team_split(rows):\n",
    "    (date,teams) = rows.split('-')\n",
    "    if '@' in teams:\n",
    "        (team1, team2) = teams.split('@')\n",
    "    if 'vs.' in teams:\n",
    "        (team2, team1) = teams.split('vs.')\n",
    "\n",
    "    team2 = team2.strip()\n",
    "\n",
    "    return(team2)\n",
    "\n",
    "# splits uit team adhv @ of vs voor uit team kolom\n",
    "def uit_team_split(rows):\n",
    "    (date,teams) = rows.split('-')\n",
    "    if '@' in teams:\n",
    "        (team2, team1) = teams.split('@')\n",
    "    if 'vs.' in teams:\n",
    "        (team1, team2) = teams.split('vs.')\n",
    "\n",
    "    team2 = team2.strip()\n",
    "\n",
    "    return(team2)\n",
    "           \n",
    "# defenieer winning team adhv @ of vs en de W kolom voor de winning team kolom\n",
    "def winning_team(rows):\n",
    "    (date,teams) = rows['MATCHUP'].split('-')\n",
    "    if '@' in teams:\n",
    "        (team1, team2) = teams.split('@')\n",
    "        if  rows['W'] == 'L':\n",
    "            winning_team = team2.strip()\n",
    "        else:\n",
    "            winning_team = team1.strip()\n",
    "            \n",
    "    if 'vs.' in teams:\n",
    "        (team2, team1) = teams.split('vs.')\n",
    "        if rows['W'] == 'L':\n",
    "            winning_team = team1.strip()\n",
    "        else:\n",
    "            winning_team = team2.strip()\n",
    "    return winning_team"
   ]
  },
  {
   "cell_type": "code",
   "execution_count": null,
   "metadata": {
    "collapsed": true
   },
   "outputs": [],
   "source": [
    "%%timeit\n",
    "df['DATUM']=df['MATCHUP'].apply(datum_split)\n",
    "df['DATUM']=df['DATUM'].apply(pd.to_datetime)\n",
    "df['THUIS_TEAM']=df['MATCHUP'].apply(thuis_team_split)\n",
    "df['UIT_TEAM']=df['MATCHUP'].apply(uit_team_split)\n",
    "# axis = 1 MOET ERBIJ!!!! specifieert dat het over rijen moet gaan en niet over kolommen\n",
    "df['WIN_TEAM']=df.apply(winning_team, axis=1)\n",
    "df.head()"
   ]
  },
  {
   "cell_type": "markdown",
   "metadata": {},
   "source": [
    "<h1>Analyse vd dataset adhv graphs</h1>"
   ]
  },
  {
   "cell_type": "markdown",
   "metadata": {},
   "source": [
    "<h3>Thuis / Uit voordeel voor winstpercentage van ploegen</h3>"
   ]
  },
  {
   "cell_type": "code",
   "execution_count": null,
   "metadata": {
    "collapsed": true
   },
   "outputs": [],
   "source": [
    "# BIG PITFALL IN DE DATASET --> elke match staat er eigenlijk 2x in:\n",
    "#                              1. 1x als Uit_ploeg: @ thuis_ploeg\n",
    "#                              2. 1x als thuis_ploeg vs uit_ploeg \n",
    "# Dit is gewoon 1 match, maar staat er dubbel in om aan te geven bij welk team speler eigenlijk hoort.\n",
    "\n",
    "# Elke matchup er maar 1x in laten voorkomen\n",
    "\n",
    "\n",
    "# Array van alle teams\n",
    "all_teams = sorted((df['THUIS_TEAM'].unique()))\n",
    "\n",
    "def home_away_specific_team(team):\n",
    "    # THUIS\n",
    "    df4 = df.drop_duplicates(['MATCHUP'])\n",
    "    df4 = df4[(df4['THUIS_TEAM'] == str(team))]\n",
    "    df4 = df4.drop_duplicates(subset=['DATUM', 'THUIS_TEAM', 'UIT_TEAM'])\n",
    "    home_wins = len(df4[(df4['THUIS_TEAM'] == team) & (df4['WIN_TEAM'] == team)])  \n",
    "    home_losses = len(df4[(df4['THUIS_TEAM'] == team) & (df4['WIN_TEAM'] != team)]) \n",
    "    \n",
    "    # UIT\n",
    "    df5 = df.drop_duplicates(['MATCHUP'])\n",
    "    df5 = df5[(df5['UIT_TEAM'] == str(team))]\n",
    "    df5 = df5.drop_duplicates(subset=['DATUM', 'THUIS_TEAM', 'UIT_TEAM'])  \n",
    "    away_wins = len(df5[(df5['UIT_TEAM'] == team) & (df5['WIN_TEAM'] == team)]) \n",
    "    away_losses = len(df5[(df5['UIT_TEAM'] == team) & (df5['WIN_TEAM'] != team)]) \n",
    "    dict = {\n",
    "            'home_losses':  home_losses,\n",
    "            'home_wins': home_wins,\n",
    "            'away_losses': away_losses,\n",
    "            'away_wins': away_wins\n",
    "           }\n",
    "\n",
    "    return dict\n"
   ]
  },
  {
   "cell_type": "code",
   "execution_count": null,
   "metadata": {
    "collapsed": true
   },
   "outputs": [],
   "source": [
    "# Maakt automatisch percentage van de value doorgegeven (nodig om value EN percent te tonen in pie chart)\n",
    "def make_autopct(values):\n",
    "    def my_autopct(pct):\n",
    "        total = sum(values)\n",
    "        val = int(round(pct*total/100.0))\n",
    "        return '{p:.2f}%  ({v:d})'.format(p=pct,v=val)\n",
    "    return my_autopct\n",
    "\n",
    "# Functie die de pie charts opstelt, roept ook de home_away_specific player functie aan om deze door te geven aan de pie chart\n",
    "def make_pie_teams(team):\n",
    "    dict = home_away_specific_team(team)\n",
    "    labels = 'Winst', 'Verlies'\n",
    "    values_home = [dict['home_wins'],dict['home_losses']]\n",
    "    values_away = [dict['away_wins'],dict['away_losses']]\n",
    "    \n",
    "    # Om de pie charts naast een te krijgen + op figure t zetten\n",
    "    fig1, (ax1, ax2) = plt.subplots(1, 2, sharey=True)\n",
    "    \n",
    "    # De 2 pies\n",
    "    ax1.pie(values_home, labels=labels, autopct=make_autopct(values_home), shadow=True, startangle=90)\n",
    "    ax1.axis('equal')  # Equal aspect ratio ensures that pie is drawn as a circle.\n",
    "    ax2.pie(values_away, labels=labels, autopct=make_autopct(values_away), shadow=True, startangle=90)\n",
    "    ax2.axis('equal')  # Equal aspect ratio ensures that pie is drawn as a circle.\n",
    "\n",
    "    # Titels van pies\n",
    "    ax1.set_title('Winst/verlies %\\n THUIS')\n",
    "    ax2.set_title('Winst/verlies %\\n UIT')\n",
    "    \n",
    "    # Pies niet laten overlappen (waarden zo laten staan, anders veel geknoei)\n",
    "    plt.subplots_adjust(top=0.92, bottom=0.08, left=0, right=1.3, hspace=0.5,\n",
    "                    wspace=15)\n",
    "    \n",
    "    # Pies groter maken\n",
    "    fig = plt.gcf()\n",
    "    fig.set_size_inches(6,6)\n",
    "    \n",
    "    # Show de plots\n",
    "    plt.show()\n",
    "    "
   ]
  },
  {
   "cell_type": "code",
   "execution_count": null,
   "metadata": {
    "collapsed": true
   },
   "outputs": [],
   "source": [
    "interact(make_pie_teams,team = all_teams)"
   ]
  },
  {
   "cell_type": "code",
   "execution_count": null,
   "metadata": {
    "collapsed": true
   },
   "outputs": [],
   "source": [
    "# THUIS UIT WIN LOS\n",
    "# https://matplotlib.org/examples/pylab_examples/bar_stacked.html\n",
    "# https://matplotlib.org/examples/api/barchart_demo.html\n",
    "\n",
    "# Counter voor teams te tellen die meer/minder/gelijk thuis winnen\n",
    "counter_home = 0\n",
    "counter_away = 0\n",
    "counter_even = 0\n",
    "\n",
    "# Counter op laten tellen in for loop\n",
    "for team in all_teams:\n",
    "    dict = home_away_specific_team(team)\n",
    "    total_home = sum([dict['home_losses'], dict['home_wins']])\n",
    "    total_away = sum([dict['away_losses'], dict['away_wins']])\n",
    "    perc_win_home = int((round(dict['home_wins']*total_home)*100.0))\n",
    "    perc_win_away = int((round(dict['away_wins']*total_away)*100.0))\n",
    "    \n",
    "    if perc_win_home > perc_win_away:\n",
    "        counter_home += 1\n",
    "    elif perc_win_home < perc_win_away:\n",
    "        counter_away += 1\n",
    "    else: \n",
    "        counter_even += 1\n",
    "\n",
    "# Horizontale barchart opmaken        \n",
    "fig, ax = plt.subplots()\n",
    "labels = 'thuis win% > uit win%', 'thuis win% < uit win%'\n",
    "y_pos = np.arange(len(labels))\n",
    "performance = [counter_home, counter_away]\n",
    "\n",
    "ax.barh(y_pos, performance, align='center')\n",
    "ax.set_yticks(y_pos)\n",
    "ax.set_yticklabels(labels)\n",
    "ax.invert_yaxis() \n",
    "ax.set_xlabel('Aantal teams')\n",
    "ax.set_title('thuisvoordeel voor teams')\n",
    "# values naast bar (v+3 is afstand tot bar, i = hoogte)\n",
    "for i, v in enumerate(performance):\n",
    "    ax.text(v + 1, i, str(v), color='black')\n",
    "\n",
    "plt.show()\n"
   ]
  },
  {
   "cell_type": "markdown",
   "metadata": {},
   "source": [
    "<h3>Thuis / Uit voordeel voor shotpercentage van spelers</h3>"
   ]
  },
  {
   "cell_type": "code",
   "execution_count": null,
   "metadata": {
    "collapsed": true
   },
   "outputs": [],
   "source": [
    "# HOME/AWAY INVLOED OP SHOT ??\n",
    "# BEST/WORST CLUTCH TEAMS/SHOOTERS?\n",
    "# SPOT UP SHOOTER VS NON SPOT UP SHOOTER\n",
    "\n",
    "# Array van alle spelers (uniek)\n",
    "all_players = sorted((df['PLAYER_NAME'].unique()))\n",
    "\n",
    "# Functie die een playernaam ontvangt en hiervoor de percentage gemiste/gemaakte worpen in thuis/uit wedstrijden teruggeeft\n",
    "def home_away_specific_player(playername):\n",
    "    df3 = df[(df['PLAYER_NAME'] == str(playername))]\n",
    "    obj = df3.groupby(['LOCATION', 'SHOT_RESULT']).size()\n",
    "    \n",
    "    dict = {\n",
    "            'made_away': obj[0],\n",
    "            'missed_away': obj[1],\n",
    "            'made_home': obj[2],\n",
    "            'missed_home': obj[3]\n",
    "           }\n",
    "\n",
    "    return dict"
   ]
  },
  {
   "cell_type": "code",
   "execution_count": null,
   "metadata": {
    "collapsed": true
   },
   "outputs": [],
   "source": [
    "# Maakt automatisch percentage van de value doorgegeven (nodig om value EN percent te tonen in pie chart)\n",
    "def make_autopct(values):\n",
    "    def my_autopct(pct):\n",
    "        total = sum(values)\n",
    "        val = int(round(pct*total/100.0))\n",
    "        return '{p:.2f}%  ({v:d})'.format(p=pct,v=val)\n",
    "    return my_autopct\n",
    "\n",
    "# Functie die de pie charts opstelt, roept ook de home_away_specific player functie aan om deze door te geven aan de pie chart\n",
    "def make_pie_shots(playername):\n",
    "    dict = home_away_specific_player(playername)\n",
    "    labels = 'Gescoord', 'Gemist'\n",
    "    values_home = [dict['made_home'],dict['missed_home']]\n",
    "    values_away = [dict['made_away'], dict['missed_away']]\n",
    "    \n",
    "    # Om de pie charts naast een te krijgen + op figure t zetten\n",
    "    fig1, (ax1, ax2) = plt.subplots(1, 2, sharey=True)\n",
    "    \n",
    "    # De 2 pies\n",
    "    ax1.pie(values_home, labels=labels, autopct=make_autopct(values_home), shadow=True, startangle=90)\n",
    "    ax1.axis('equal')  # Equal aspect ratio ensures that pie is drawn as a circle.\n",
    "    ax2.pie(values_away, labels=labels, autopct=make_autopct(values_away), shadow=True, startangle=90)\n",
    "    ax2.axis('equal')  # Equal aspect ratio ensures that pie is drawn as a circle.\n",
    "\n",
    "    # Titels van pies\n",
    "    ax1.set_title('shot % \\n THUIS')\n",
    "    ax2.set_title('shot % \\n UIT')\n",
    "    \n",
    "    # Pies niet laten overlappen (waarden zo laten staan, anders veel geknoei)\n",
    "    plt.subplots_adjust(top=0.92, bottom=0.08, left=0, right=1.3, hspace=0.5,\n",
    "                    wspace=15)\n",
    "    \n",
    "    # Pies groter maken\n",
    "    fig = plt.gcf()\n",
    "    fig.set_size_inches(6,6)\n",
    "    \n",
    "    # Show de plots\n",
    "    plt.show()\n",
    "    \n",
    "    "
   ]
  },
  {
   "cell_type": "code",
   "execution_count": null,
   "metadata": {
    "collapsed": true,
    "scrolled": true
   },
   "outputs": [],
   "source": [
    "interact(make_pie_shots,playername = all_players)"
   ]
  },
  {
   "cell_type": "code",
   "execution_count": null,
   "metadata": {
    "collapsed": true,
    "scrolled": true
   },
   "outputs": [],
   "source": [
    "# Counter voor spelers te tellen die beter shotten thuis/uit of gelijk\n",
    "counter_home = 0\n",
    "counter_away = 0\n",
    "counter_even = 0\n",
    "\n",
    "# Counter op laten tellen in for loop\n",
    "for player in all_players:\n",
    "    dict = home_away_specific_player(player)\n",
    "    total_home = sum([dict['made_home'],dict['missed_home']])\n",
    "    total_away = sum([dict['made_away'], dict['missed_away']])\n",
    "    perc_made_home = int((round(dict['made_home']*total_home)*100.0))\n",
    "    perc_made_away = int((round(dict['made_away']*total_away)*100.0))\n",
    "    \n",
    "    if perc_made_home > perc_made_away:\n",
    "        counter_home += 1\n",
    "    elif perc_made_home < perc_made_away:\n",
    "        counter_away += 1\n",
    "\n",
    "# Horizontale barchart opmaken        \n",
    "fig, ax = plt.subplots()\n",
    "labels = 'thuis FG% > uit FG%', 'thuis FG% < uit FG%'\n",
    "y_pos = np.arange(len(labels))\n",
    "performance = [counter_home, counter_away]\n",
    "\n",
    "ax.barh(y_pos, performance, align='center')\n",
    "ax.set_yticks(y_pos)\n",
    "ax.set_yticklabels(labels)\n",
    "ax.invert_yaxis() \n",
    "ax.set_xlabel('Aantal spelers')\n",
    "ax.set_title('thuisvoordeel voor shots')\n",
    "# values naast bar (v+3 is afstand tot bar, i = hoogte)\n",
    "for i, v in enumerate(performance):\n",
    "    ax.text(v + 3, i, str(v), color='black')\n",
    "\n",
    "plt.show()"
   ]
  },
  {
   "cell_type": "markdown",
   "metadata": {},
   "source": [
    "<h3>Welke andere variabelen beinvloeden het shot percentage</h3>"
   ]
  },
  {
   "cell_type": "code",
   "execution_count": null,
   "metadata": {
    "collapsed": true,
    "scrolled": false
   },
   "outputs": [],
   "source": [
    "dribbles = df[df['DRIBBLES'] < 15].groupby('DRIBBLES')['SHOT_RESULT'].value_counts(normalize=True)\n",
    "dribbles = dribbles.loc[:, 'made']\n",
    "\n",
    "shot_clock = df[df['SHOT_CLOCK'] <= 24].groupby('SHOT_CLOCK')['SHOT_RESULT'].value_counts(normalize=True)\n",
    "shot_clock = shot_clock.loc[:, 'made']\n",
    "\n",
    "shot_dist = df[df['SHOT_DIST'] <= 30].groupby('SHOT_DIST')['SHOT_RESULT'].value_counts(normalize=True)\n",
    "shot_dist = shot_dist.loc[:, 'made']\n",
    "\n",
    "period = df[df['PERIOD'] <= 7].groupby('PERIOD')['SHOT_RESULT'].value_counts(normalize=True)\n",
    "period = period.loc[:, 'made']\n",
    "\n",
    "defender_dist = df[df['CLOSE_DEF_DIST'] <= 20].groupby('CLOSE_DEF_DIST')['SHOT_RESULT'].value_counts(normalize=True)\n",
    "defender_dist = defender_dist.loc[:, 'made']\n",
    "\n",
    "touch_time = df[df['TOUCH_TIME'] <= 15].groupby('TOUCH_TIME')['SHOT_RESULT'].value_counts(normalize=True)\n",
    "touch_time = touch_time.loc[:, 'made']\n",
    "\n",
    "distances = [0,5,10,20,30,40,50]\n",
    "\n",
    "defender_dist = [(df[np.logical_and(np.logical_and(df['CLOSE_DEF_DIST']>distances[i-1],df['CLOSE_DEF_DIST']<distances[i] ), \n",
    "df['FGM']==1)  ].size/df[np.logical_and(df['CLOSE_DEF_DIST']>distances[i-1],\n",
    "df['CLOSE_DEF_DIST']<distances[i] )  ].size)    \n",
    "for i in range(1,len(distances))]\n",
    "defender_dist_lambda = pd.Series(defender_dist, index = distances[1:len(distances)])\n",
    "\n",
    "fig = plt.figure(figsize=(16, 16))\n",
    "ax1 = fig.add_subplot(3, 2, 1)\n",
    "ax2 = fig.add_subplot(3, 2, 2)\n",
    "ax3 = fig.add_subplot(3, 2, 3)\n",
    "ax4 = fig.add_subplot(3, 2, 4)\n",
    "ax5 = fig.add_subplot(3, 2, 5)\n",
    "ax6 = fig.add_subplot(3, 2, 6)\n",
    "\n",
    "ax1.plot(dribbles)\n",
    "ax2.plot(shot_clock)\n",
    "ax3.plot(shot_dist)\n",
    "ax4.plot(period)\n",
    "ax5.plot(defender_dist_lambda)\n",
    "ax6.plot(touch_time)\n",
    "ax1.set_xlabel('# Dribbles')\n",
    "ax2.set_xlabel('Resterende shot clock')\n",
    "ax3.set_xlabel('Shot afstand (ft)')\n",
    "ax4.set_xlabel('Periode')\n",
    "ax5.set_xlabel('Afstand tot verdediger (ft)')\n",
    "ax6.set_xlabel('Tijd bal in handen')\n",
    "plt.tight_layout()\n",
    "plt.show()\n"
   ]
  },
  {
   "cell_type": "markdown",
   "metadata": {},
   "source": [
    "<h3>Predicitions & Machine learning</h3>"
   ]
  },
  {
   "cell_type": "code",
   "execution_count": null,
   "metadata": {
    "collapsed": true,
    "scrolled": true
   },
   "outputs": [],
   "source": [
    "# tutorial over voorspelling met RFC\n",
    "# : http://www.agcross.com/blog/2015/02/05/random-forests-in-python-with-scikit-learn/\n",
    "df['is_train'] = np.random.uniform(0, 1, len(df)) <= .75\n",
    "train, test = df[df['is_train']==True], df[df['is_train']==False]\n",
    "features = df.columns[[6,8,9,10,11,15]]\n",
    "values = df['SHOT_RESULT'].unique()\n",
    "forest = RFC(n_jobs=2,n_estimators=200)\n",
    "y, _ = pd.factorize(train['SHOT_RESULT'])\n",
    "forest.fit(train[features], y)\n",
    "preds = values[forest.predict(test[features])]\n",
    "confusion_tabel = pd.crosstab(index=test['SHOT_RESULT'], columns=preds, rownames=['actual'], colnames=['preds'])\n",
    "\n",
    "\n",
    "total = confusion_tabel['made']['made'] + confusion_tabel['missed']['missed'] + confusion_tabel['made']['missed'] + confusion_tabel['missed']['made']\n",
    "total_pred_correct = confusion_tabel['made']['made'] + confusion_tabel['missed']['missed']\n",
    "# total_pred_made = confusion_tabel['made']['made'] + confusion_tabel['made']['missed']\n",
    "# total_pred_made_correct = confusion_tabel['made']['made']\n",
    "accuracy = round((total_pred_correct / total) * 100,2)\n",
    "# precision = round((total_pred_made_correct / total_pred_made) * 100,2)\n",
    "\n",
    "print(confusion_tabel)\n",
    "print(\" \")\n",
    "print(\"Hoeveel % van de voorspellingen waren correct?\")\n",
    "print(\"De accuracy bedraagt: \",accuracy, \"%\")\n",
    "\n",
    "# print(\" \")\n",
    "# print(\"Hoeveel % van de gemaakte shots waren correct?\")\n",
    "# print(\"De precision bedraagt: \",precision, \"%\")\n",
    "\n"
   ]
  },
  {
   "cell_type": "code",
   "execution_count": null,
   "metadata": {
    "collapsed": true
   },
   "outputs": [],
   "source": [
    "importances = forest.feature_importances_\n",
    "indices = np.argsort(importances)\n",
    "fig, ax = plt.subplots()\n",
    "y_pos = np.arange(len(features))\n",
    "                  \n",
    "ax.barh(range(len(indices)), importances[indices], color='b', align='center')\n",
    "ax.set_yticks(y_pos)\n",
    "ax.set_yticklabels(features)\n",
    "ax.set_xlabel('Relatief belang')\n",
    "ax.set_title('belang van de kenmerken')\n",
    "for i, v in enumerate(importances[indices]):\n",
    "    ax.text(v + 0.01, i - 0.15, round(v,4), color='black')\n",
    "plt.show()"
   ]
  },
  {
   "cell_type": "code",
   "execution_count": null,
   "metadata": {
    "collapsed": true
   },
   "outputs": [],
   "source": [
    "df.head()"
   ]
  },
  {
   "cell_type": "code",
   "execution_count": null,
   "metadata": {
    "collapsed": true
   },
   "outputs": [],
   "source": []
  },
  {
   "cell_type": "code",
   "execution_count": null,
   "metadata": {
    "collapsed": true
   },
   "outputs": [],
   "source": [
    "# tutorial over voorspelling met XGB\n",
    "df_xgb = df[['PERIOD', 'SHOT_CLOCK','DRIBBLES','TOUCH_TIME','SHOT_DIST','SHOT_RESULT','CLOSE_DEF_DIST']]\n",
    "X = df.iloc[:,0:6]\n",
    "Y = df.iloc[:,6]\n",
    "\n",
    "# split data into train and test sets\n",
    "seed = 7\n",
    "test_size = 0.25\n",
    "X_train, X_test, y_train, y_test = train_test_split(X, Y, test_size=test_size, random_state=seed)\n",
    "\n",
    "# fit model on training data\n",
    "model = XGBClassifier()\n",
    "model.fit(X_train, y_train)\n",
    "print(model)\n"
   ]
  },
  {
   "cell_type": "code",
   "execution_count": null,
   "metadata": {
    "collapsed": true
   },
   "outputs": [],
   "source": []
  },
  {
   "cell_type": "code",
   "execution_count": null,
   "metadata": {
    "collapsed": true
   },
   "outputs": [],
   "source": []
  }
 ],
 "metadata": {
  "kernelspec": {
   "display_name": "Python 3",
   "language": "python",
   "name": "python3"
  },
  "language_info": {
   "codemirror_mode": {
    "name": "ipython",
    "version": 3
   },
   "file_extension": ".py",
   "mimetype": "text/x-python",
   "name": "python",
   "nbconvert_exporter": "python",
   "pygments_lexer": "ipython3",
   "version": "3.6.1"
  }
 },
 "nbformat": 4,
 "nbformat_minor": 2
}
